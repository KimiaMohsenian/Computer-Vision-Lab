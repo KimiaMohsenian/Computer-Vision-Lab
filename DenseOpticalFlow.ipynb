{
 "cells": [
  {
   "cell_type": "markdown",
   "id": "fba779db",
   "metadata": {},
   "source": [
    "توضیحات به صورت کامنت در کد گذاشته شده اند."
   ]
  },
  {
   "cell_type": "code",
   "execution_count": 1,
   "id": "f0c17fd8",
   "metadata": {
    "scrolled": true
   },
   "outputs": [
    {
     "name": "stderr",
     "output_type": "stream",
     "text": [
      "[ WARN:0@0.327] global /private/var/folders/nz/j6p8yfhx1mv_0grj5xl4650h0000gp/T/abs_562_cazh1h/croots/recipe/opencv-suite_1664548333142/work/modules/videoio/src/cap_gstreamer.cpp (2386) handleMessage OpenCV | GStreamer warning: your GStreamer installation is missing a required plugin\n",
      "[ WARN:0@0.328] global /private/var/folders/nz/j6p8yfhx1mv_0grj5xl4650h0000gp/T/abs_562_cazh1h/croots/recipe/opencv-suite_1664548333142/work/modules/videoio/src/cap_gstreamer.cpp (2402) handleMessage OpenCV | GStreamer warning: Embedded video playback halted; module uridecodebin0 reported: Your GStreamer installation is missing a plug-in.\n",
      "[ WARN:0@0.328] global /private/var/folders/nz/j6p8yfhx1mv_0grj5xl4650h0000gp/T/abs_562_cazh1h/croots/recipe/opencv-suite_1664548333142/work/modules/videoio/src/cap_gstreamer.cpp (1356) open OpenCV | GStreamer warning: unable to start pipeline\n",
      "[ WARN:0@0.328] global /private/var/folders/nz/j6p8yfhx1mv_0grj5xl4650h0000gp/T/abs_562_cazh1h/croots/recipe/opencv-suite_1664548333142/work/modules/videoio/src/cap_gstreamer.cpp (862) isPipelinePlaying OpenCV | GStreamer warning: GStreamer: pipeline have not been created\n"
     ]
    }
   ],
   "source": [
    "import cv2 as cv\n",
    "import numpy as np\n",
    "import matplotlib.pyplot as plt\n",
    "\n",
    "# Sourses:\n",
    "# https://docs.opencv.org/3.4/d4/dee/tutorial_optical_flow.html\n",
    "# geeksforgeeks\n",
    "\n",
    "# reading the video\n",
    "cap = cv.VideoCapture('video.mov')\n",
    "\n",
    "# reading the first frame\n",
    "ret, first_frame = cap.read()\n",
    "# converting to gray\n",
    "prev_gray = cv.cvtColor(first_frame, cv.COLOR_BGR2GRAY)\n",
    "\n",
    "# parameters for lucas kanade optical flow\n",
    "lk_params = dict( winSize  = (15, 15),\n",
    "                  maxLevel = 5,\n",
    "                  criteria = (cv.TERM_CRITERIA_EPS | cv.TERM_CRITERIA_COUNT, 10, 0.03))\n",
    "\n",
    "mask = np.zeros_like(first_frame)\n",
    "mask[..., 1] = 255  # maximum saturation\n",
    "\n",
    "while (cap.isOpened()):\n",
    "    \n",
    "    # read the next frame\n",
    "    ret, frame = cap.read()\n",
    "    # displaying\n",
    "    cv.imshow('input', frame)\n",
    "    # converting to graysclae\n",
    "    current_gray = cv.cvtColor(frame, cv.COLOR_BGR2GRAY)\n",
    "\n",
    "    # dense optical flow\n",
    "    flow = cv.calcOpticalFlowFarneback(prev_gray, current_gray, None, 0.5, 3, 15, 3, 5, 1.2, 0)\n",
    "\n",
    "    # Computes the magnitude and angle of the flow\n",
    "    magnitude, angle = cv.cartToPolar(flow[..., 0], flow[..., 1])\n",
    "\n",
    "    # sets image hue according to the optical flow direction\n",
    "    mask[..., 0] = angle * 180 / np.pi / 2\n",
    "\n",
    "    # sets image value according to the optical flow magnitude (normalized)\n",
    "    mask[..., 2] = cv.normalize(magnitude, None, 0, 255, cv.NORM_MINMAX)\n",
    "\n",
    "    # converts HSV to RGB \n",
    "    rgb_mask = cv.cvtColor(mask, cv.COLOR_HSV2BGR)\n",
    "\n",
    "    # displaying the output frame\n",
    "    cv.imshow('dense optical flow', rgb_mask)\n",
    "\n",
    "    # updating previous frame\n",
    "    prev_gray = current_gray\n",
    "\n",
    "    if cv.waitKey(1) & 0xFF == ord('q'):\n",
    "        break\n",
    "\n",
    "cap.release()\n",
    "cv.destroyAllWindows()"
   ]
  }
 ],
 "metadata": {
  "kernelspec": {
   "display_name": "Python 3 (ipykernel)",
   "language": "python",
   "name": "python3"
  },
  "language_info": {
   "codemirror_mode": {
    "name": "ipython",
    "version": 3
   },
   "file_extension": ".py",
   "mimetype": "text/x-python",
   "name": "python",
   "nbconvert_exporter": "python",
   "pygments_lexer": "ipython3",
   "version": "3.9.15"
  }
 },
 "nbformat": 4,
 "nbformat_minor": 5
}
