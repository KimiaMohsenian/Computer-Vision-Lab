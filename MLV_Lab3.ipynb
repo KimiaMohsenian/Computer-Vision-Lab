{
  "nbformat": 4,
  "nbformat_minor": 0,
  "metadata": {
    "colab": {
      "provenance": []
    },
    "kernelspec": {
      "name": "python3",
      "display_name": "Python 3"
    },
    "language_info": {
      "name": "python"
    }
  },
  "cells": [
    {
      "cell_type": "markdown",
      "source": [
        "# pre-lab"
      ],
      "metadata": {
        "id": "neIVh6GBpehW"
      }
    },
    {
      "cell_type": "code",
      "execution_count": null,
      "metadata": {
        "colab": {
          "base_uri": "https://localhost:8080/"
        },
        "id": "kkQ9jBnc5pa_",
        "outputId": "7f308855-2e60-4944-c55b-aefc40a613c1"
      },
      "outputs": [
        {
          "output_type": "stream",
          "name": "stdout",
          "text": [
            "[[ 0.59035156 -2.83368749]\n",
            " [-0.66286564  3.18175507]]\n",
            "(array([-4.44089210e-16,  3.77210663e+00]), matrix([[-0.97898042,  0.6650795 ],\n",
            "        [-0.20395425, -0.74677256]]))\n",
            "class1 projection <0 [[-0.82846562 -0.91015868 -0.24507918 -1.0735448  -0.4084653 ]]\n",
            "class2 projection >0 [[0.6650795  0.58338644 1.24846594 0.50169338 1.08507982 0.2566142 ]]\n"
          ]
        }
      ],
      "source": [
        "import numpy as np\n",
        "\n",
        "sw=5*np.cov( np.array([[1,2], [2,3], [3,3], [4,5], [5,5]]).T)+6*np.cov( np.array( [[1,0], [2,1], [3,1], [3,2], [5,3], [6,5]]).T)\n",
        "\n",
        "mx=np.mean(np.array([[1,2], [2,3], [3,3], [4,5], [5,5]]),axis=0)\n",
        "my=np.mean(np.array( [[1,0], [2,1], [3,1], [3,2], [5,3], [6,5]]),axis=0)\n",
        "m=(5*mx+6*my)/11\n",
        "np.asmatrix(mx-m).T*np.asmatrix(mx-m)\n",
        "sb=5* np.asmatrix(mx-m).T*np.asmatrix(mx-m) + 6* np.asmatrix(my-m).T*np.asmatrix(my-m)\n",
        "\n",
        "print(np.linalg.inv(sw)*sb)\n",
        "print(np.linalg.eig(np.linalg.inv(sw)*sb))\n",
        "print('class1 projection <0',np.asmatrix([ 0.6650795,-0.74677256])*np.array([[1,2], [2,3], [3,3], [4,5], [5,5]]).T)\n",
        "print('class2 projection >0',np.asmatrix([ 0.6650795,-0.74677256])*np.array([[1,0], [2,1], [3,1], [3,2], [5,3], [6,5]]).T)"
      ]
    },
    {
      "cell_type": "markdown",
      "source": [
        "# part1\n",
        "\n",
        "$$ argmax_{u_1} \\frac{u^Ts_bu}{u^Ts_wu} ->  \\frac{d \\frac{u^Ts_bu}{u^Ts_wu}}{du}= \\frac{2s_bu(u^Ts_wu) - 2s_wu(u^Ts_bu)}{(u^Ts_wu)^2}=0$$\n",
        "$$ -> s_bu(u^Ts_wu) =s_wu(u^Ts_bu) -> (s_w)^{-1}s_bu (u^Ts_wu) =u (u^Ts_bu)$$\n",
        "$$ (s_w)^{-1}s_b u = u \\frac{(u^Ts_bu)}{(u^Ts_wu)} $$\n",
        "\n",
        "از تابع هدف نسبت به یو مشتق گرفته و برابر صفر می گذاریم. با ساده سازی به عبارت اخیر می رسیم که از آن نتیجه می شود  بردار یو بردار ویژه ماتریس \n",
        "$ (s_w)^{-1}s_b $\n",
        "با مقدار ویژه \n",
        "$ \\frac{(u^Ts_bu)}{(u^Ts_wu)} $\n",
        "خواهد بود."
      ],
      "metadata": {
        "id": "AHbuGJwHpr45"
      }
    },
    {
      "cell_type": "markdown",
      "source": [
        "# part2"
      ],
      "metadata": {
        "id": "0GKlHNTgp5uU"
      }
    },
    {
      "cell_type": "code",
      "source": [
        "import numpy as np\n",
        "import matplotlib.pyplot as plt\n",
        "import os\n",
        "from skimage.io import imread\n",
        "from skimage.transform import resize\n",
        "from sklearn.model_selection import train_test_split\n",
        "from sklearn.decomposition import PCA\n",
        "from sklearn.neighbors import KNeighborsClassifier\n",
        "from sklearn.discriminant_analysis import LinearDiscriminantAnalysis\n",
        "from google.colab import drive\n",
        "drive.mount('/content/drive')"
      ],
      "metadata": {
        "colab": {
          "base_uri": "https://localhost:8080/"
        },
        "id": "R7HL7TECIP0N",
        "outputId": "9d398f1f-5690-4ecf-9413-a72040deb9d6"
      },
      "execution_count": null,
      "outputs": [
        {
          "output_type": "stream",
          "name": "stdout",
          "text": [
            "Mounted at /content/drive\n"
          ]
        }
      ]
    },
    {
      "cell_type": "markdown",
      "source": [
        "در این بخش، تصاویر از فولدرهای خوشحال و متعجب خوانده می شوند. هر تصویر به بردار تبدیل شده و به همراه برچسب آن ذخیره می شود"
      ],
      "metadata": {
        "id": "UV7ZuxjAYTrp"
      }
    },
    {
      "cell_type": "code",
      "source": [
        "#reading images with 2 label (happy,surprise)\n",
        "dataPath1 = 'drive/My Drive/ml/Cohn-Kanade/surprise'\n",
        "dataPath2 = 'drive/My Drive/ml/Cohn-Kanade/happy'\n",
        "\n",
        "#dataPath1 = 'drive/My Drive/CVLab/LAB1/Data/Cohn-Kanade/surprise'\n",
        "#dataPath2 = 'drive/My Drive/CVLab/LAB1/Data/Cohn-Kanade/happy'\n",
        "\n",
        "data = dict()\n",
        "data['label'] = []\n",
        "data['filename'] = []\n",
        "data['data'] = []   \n",
        "\n",
        "datah = []\n",
        "labelh = []\n",
        "\n",
        "datas = []\n",
        "labels = []\n",
        "\n",
        "for file in os.listdir(dataPath1):\n",
        "        if file[-3:] in {'jpg', 'png'}:\n",
        "              im = imread(dataPath1 +'/' + file,0) # read image\n",
        "              data['label'].append('surprise')\n",
        "              data['filename'].append(file)\n",
        "              data['data'].append((im.reshape(im.shape[0]*im.shape[1])))\n",
        "\n",
        "              datas.append((im.reshape(im.shape[0]*im.shape[1])))\n",
        "              labels.append('surprise')\n",
        "                    \n",
        "for file in os.listdir(dataPath2):\n",
        "        if file[-3:] in {'jpg', 'png'}:\n",
        "              im = imread(dataPath2 +'/' + file,0) # read image\n",
        "              data['label'].append('happy')\n",
        "              data['filename'].append(file)\n",
        "              data['data'].append((im.reshape(im.shape[0]*im.shape[1])))\n",
        "\n",
        "              datah.append((im.reshape(im.shape[0]*im.shape[1])))\n",
        "              labelh.append('happy')"
      ],
      "metadata": {
        "id": "YZdhE_uK-lpP"
      },
      "execution_count": null,
      "outputs": []
    },
    {
      "cell_type": "markdown",
      "source": [
        "در این قسمت از هر کدام از مجموعه داده های خوشحال و متعجب، ۵۰ داده به صورت رندم به عنوان داده های آموزش و مابقی به عنوان داده های تست جدامی شوند."
      ],
      "metadata": {
        "id": "lnOCU6QPYjHp"
      }
    },
    {
      "cell_type": "code",
      "source": [
        "#spliting test and train data \n",
        "X_train_h, X_test_h, y_train_h, y_test_h = train_test_split(datah, labelh ,train_size=50,random_state=42)\n",
        "X_train_s, X_test_s, y_train_s, y_test_s = train_test_split(datas, labels ,train_size=50,random_state=42)\n",
        "\n",
        "X_train = X_train_h + X_train_s\n",
        "X_test  = X_test_h  + X_test_s\n",
        "y_train = y_train_h + y_train_s\n",
        "y_test  = y_test_h  + y_test_s"
      ],
      "metadata": {
        "id": "jX8BRCsVCHFO"
      },
      "execution_count": null,
      "outputs": []
    },
    {
      "cell_type": "markdown",
      "source": [
        "در این قسمت، الگوریتم پی سی ای با ۳۰  مولفه اساسی روی داده های آموزش ترین می شود و با استفاده از آن داده های آموزش و تست کاهش بعد داده می شوند."
      ],
      "metadata": {
        "id": "OAMgyTOcZPj-"
      }
    },
    {
      "cell_type": "code",
      "source": [
        "pca = PCA(n_components=30)\n",
        "pca.fit(X_train)\n",
        "X_reduced_train=(pca.transform(X_train))\n",
        "X_reduced_test=(pca.transform(X_test))\n",
        "print('Shape of the reduced train data: ', np.shape(X_reduced_train))"
      ],
      "metadata": {
        "colab": {
          "base_uri": "https://localhost:8080/"
        },
        "id": "AXEQNLUjCCBo",
        "outputId": "f56ef4b1-a07d-44ff-d91f-63641cd33727"
      },
      "execution_count": null,
      "outputs": [
        {
          "output_type": "stream",
          "name": "stdout",
          "text": [
            "Shape of the reduced train data:  (100, 30)\n"
          ]
        }
      ]
    },
    {
      "cell_type": "code",
      "source": [
        "print('Shape of the reduced train data with surprise label: ', np.shape(X_reduced_train[np.where(np.array(y_train)=='surprise')]) )"
      ],
      "metadata": {
        "colab": {
          "base_uri": "https://localhost:8080/"
        },
        "id": "l9kFFI1aFWpt",
        "outputId": "cd853dfd-46a4-44ad-ca4a-2374b5aaf908"
      },
      "execution_count": null,
      "outputs": [
        {
          "output_type": "stream",
          "name": "stdout",
          "text": [
            "Shape of the reduced train data with surprise label:  (50, 30)\n"
          ]
        }
      ]
    },
    {
      "cell_type": "markdown",
      "source": [
        "در این قسمت، داده های کاهش بعد داده شده کلاس ها از هم جدا می شوند. پس از آن، مطابق روابط داده شده در دستور کار، ماتریس های پراکندگی داخلی و بینابینی بین کلاس ها محاسبه می شوند."
      ],
      "metadata": {
        "id": "NDhrghXxcPcN"
      }
    },
    {
      "cell_type": "code",
      "source": [
        "X_reduced_train_surprise=X_reduced_train[np.where(np.array(y_train)=='surprise')]\n",
        "X_reduced_train_happy=X_reduced_train[np.where(np.array(y_train)=='happy')]\n",
        "X_reduced_test_surprise=X_reduced_test[np.where(np.array(y_test)=='surprise')]\n",
        "X_reduced_test_happy=X_reduced_test[np.where(np.array(y_test)=='happy')]\n",
        "\n",
        "# number data in each class\n",
        "N_happy=np.shape(X_reduced_train[np.where(np.array(y_train)=='happy')])[0]\n",
        "N_surprise=np.shape(X_reduced_train[np.where(np.array(y_train)=='surprise')])[0]\n",
        "\n",
        "# compute within class covariance\n",
        "sw=N_happy*np.cov(X_reduced_train_happy.T) + N_surprise*np.cov(X_reduced_train_surprise.T)\n",
        "\n",
        "#compute between class covariance\n",
        "m_surprise=np.mean(X_reduced_train_surprise,axis=0)\n",
        "m_happy=np.mean(X_reduced_train_happy,axis=0)\n",
        "m=(N_happy*m_happy+N_surprise*m_surprise)/(N_surprise+N_happy)\n",
        "sb=N_surprise* np.asmatrix(m_surprise-m).T*np.asmatrix(m_surprise-m) + N_happy* np.asmatrix(m_happy-m).T*np.asmatrix(m_happy-m)\n",
        "print('sb rank, number of eigen vectors, :',np.linalg.matrix_rank(sw))"
      ],
      "metadata": {
        "colab": {
          "base_uri": "https://localhost:8080/"
        },
        "id": "5x0dGggOGjZ2",
        "outputId": "afd4a0fc-f1f0-4ef6-a945-4fc5136b8e4a"
      },
      "execution_count": null,
      "outputs": [
        {
          "output_type": "stream",
          "name": "stdout",
          "text": [
            "sb rank, number of eigen vectors, : 30\n"
          ]
        }
      ]
    },
    {
      "cell_type": "markdown",
      "source": [
        "# part3"
      ],
      "metadata": {
        "id": "I8irJD5LqDeG"
      }
    },
    {
      "cell_type": "markdown",
      "source": [
        "در این قسمت، مقادیر ویژه ماتریس نهایی به دست می آید، همانطور که میبینم، این ماتریس تنها یک مقدار ویژه قابل توجه دارد (که قابل انتظار بود زیرا دو کلاس داریم). بردار ویژه متناظر با این مقدار ویژه نیز به دست می آید. "
      ],
      "metadata": {
        "id": "4S4j_f3Nejmx"
      }
    },
    {
      "cell_type": "code",
      "source": [
        "#finding the only eigen vector and converting to eigenface\n",
        "sf = np.linalg.inv(sw)*sb\n",
        "value, vector = np.linalg.eig(sf)\n",
        "max_value = np.max(value)\n",
        "max_ind = list(value).index(max_value)\n",
        "max_vector = vector[:,max_ind]\n",
        "print(max_vector) \n",
        "vector_transformed = (pca.inverse_transform(max_vector.flatten()))\n",
        "vector_transformed_img = np.real(np.reshape(vector_transformed, (600, 300)))\n",
        "plt.imshow(vector_transformed_img,cmap='gray')\n",
        "plt.title('eigenvector')\n",
        "plt.show()"
      ],
      "metadata": {
        "colab": {
          "base_uri": "https://localhost:8080/",
          "height": 801
        },
        "id": "R6OPWSaLJxCo",
        "outputId": "831464da-a9a6-4f64-fa9a-3f7c920d5f02"
      },
      "execution_count": null,
      "outputs": [
        {
          "output_type": "stream",
          "name": "stdout",
          "text": [
            "[[-0.00263184+0.j]\n",
            " [-0.06141105+0.j]\n",
            " [ 0.14967916+0.j]\n",
            " [-0.18168799+0.j]\n",
            " [ 0.02634748+0.j]\n",
            " [ 0.31505288+0.j]\n",
            " [ 0.54289551+0.j]\n",
            " [-0.41545798+0.j]\n",
            " [-0.26888869+0.j]\n",
            " [ 0.06060462+0.j]\n",
            " [ 0.27538494+0.j]\n",
            " [-0.14871837+0.j]\n",
            " [-0.14332197+0.j]\n",
            " [ 0.12011237+0.j]\n",
            " [-0.02514154+0.j]\n",
            " [ 0.1281366 +0.j]\n",
            " [ 0.2160295 +0.j]\n",
            " [-0.00863561+0.j]\n",
            " [-0.07028756+0.j]\n",
            " [ 0.0853781 +0.j]\n",
            " [ 0.05008211+0.j]\n",
            " [ 0.05625097+0.j]\n",
            " [-0.2195884 +0.j]\n",
            " [-0.06649473+0.j]\n",
            " [ 0.07572689+0.j]\n",
            " [ 0.07591082+0.j]\n",
            " [-0.10622179+0.j]\n",
            " [ 0.01670402+0.j]\n",
            " [-0.06029697+0.j]\n",
            " [ 0.05988123+0.j]]\n"
          ]
        },
        {
          "output_type": "display_data",
          "data": {
            "text/plain": [
              "<Figure size 432x288 with 1 Axes>"
            ],
            "image/png": "[encoded data removed]"
          },
          "metadata": {
            "needs_background": "light"
          }
        }
      ]
    },
    {
      "cell_type": "markdown",
      "source": [
        "همان طور که دیده می شود در تصویر متناظر با بردار ویژه به دست آمده، ناحیه های روشن مربوط به چهره خوشحال و ناحیه های تیره مربوط به چهره متعحب هستند."
      ],
      "metadata": {
        "id": "TQPtc3f2HBda"
      }
    },
    {
      "cell_type": "markdown",
      "source": [
        "در قسمت زیر، همه بردارهای تصاویر روی بردار ویژه تصویر می شوند سپس از روی دقت تفکیک پذیری کلاس ها، خطاهای آموزش و تست محاسبه می شوند."
      ],
      "metadata": {
        "id": "7TmAfjiSgnIs"
      }
    },
    {
      "cell_type": "code",
      "source": [
        "#project faces on eigenvector and predict labels\n",
        "weights_surprise_train = X_reduced_train_surprise.dot(max_vector).flatten()\n",
        "weights_happy_train = X_reduced_train_happy.dot(max_vector).flatten()\n",
        "weights_surprise_test = X_reduced_test_surprise.dot(max_vector).flatten()\n",
        "weights_happy_test = X_reduced_test_happy.dot(max_vector).flatten()\n",
        "ms=np.mean(weights_surprise_train)\n",
        "mh=np.mean(weights_happy_train)\n",
        "\n",
        "test_error = np.sum ( np.abs(weights_surprise_test-ms)>np.abs(weights_surprise_test-mh)  ) + np.sum( ( np.abs(weights_happy_test-ms)<np.abs(weights_happy_test-mh))  )\n",
        "train_error = np.sum ( np.abs(weights_surprise_train-ms)>np.abs(weights_surprise_train-mh)  ) + np.sum( ( np.abs(weights_happy_train-ms)<np.abs(weights_happy_train-mh))  )"
      ],
      "metadata": {
        "id": "LUHkNfX9OWlq"
      },
      "execution_count": null,
      "outputs": []
    },
    {
      "cell_type": "code",
      "source": [
        "print('Train error of LDA method with 30 components for PCA: ', train_error)\n",
        "print('Test erorr of LDA method with 30 components for PCA: ', test_error)\n",
        "print('Train acc for LDA with 30 components: ', 1 - train_error/int(np.shape(y_train)[0]))\n",
        "print('train acc for LDA =', 1 - test_error/int(np.shape(y_test)[0]))"
      ],
      "metadata": {
        "colab": {
          "base_uri": "https://localhost:8080/"
        },
        "id": "J4Ekgz4Fp7qx",
        "outputId": "63cde0ee-9688-4d97-a15f-5d3fd70e4f61"
      },
      "execution_count": null,
      "outputs": [
        {
          "output_type": "stream",
          "name": "stdout",
          "text": [
            "Train error of LDA method with 30 components for PCA:  0\n",
            "Test erorr of LDA method with 30 components for PCA:  3\n",
            "Train acc for LDA with 30 components:  1.0\n",
            "train acc for LDA = 0.9589041095890412\n"
          ]
        }
      ]
    },
    {
      "cell_type": "markdown",
      "source": [
        "در قسمت زیر، روش ال دی ای توسط تابع اماده اجرا شده است."
      ],
      "metadata": {
        "id": "o_TdIArv4P6R"
      }
    },
    {
      "cell_type": "code",
      "source": [
        "# lda using sklearn\n",
        "clf = LinearDiscriminantAnalysis()\n",
        "clf.fit(X_reduced_train, y_train)\n",
        "print('Accuracy of LDA on test data using sklearn: ', clf.score(X_reduced_test, y_test))\n",
        "clf.score(X_reduced_test,y_test)\n",
        "vector_transformed = (pca.inverse_transform(clf.scalings_.flatten()))\n",
        "vector_transformed_img = np.real(np.reshape(vector_transformed, (600, 300)))\n",
        "plt.imshow(vector_transformed_img,cmap='gray')\n",
        "plt.title('eigenvector')\n",
        "plt.show()"
      ],
      "metadata": {
        "colab": {
          "base_uri": "https://localhost:8080/",
          "height": 318
        },
        "id": "v4S_2UMGIySy",
        "outputId": "334ffb7f-9d8f-46af-98b4-92b24f88594b"
      },
      "execution_count": null,
      "outputs": [
        {
          "output_type": "stream",
          "name": "stdout",
          "text": [
            "Accuracy of LDA on test data using sklearn:  1.0\n"
          ]
        },
        {
          "output_type": "display_data",
          "data": {
            "text/plain": [
              "<Figure size 432x288 with 1 Axes>"
            ],
            "image/png": "[encoded data removed]"
          },
          "metadata": {
            "needs_background": "light"
          }
        }
      ]
    },
    {
      "cell_type": "markdown",
      "source": [
        "در قسمت زیر، الگوریتم نیرست نیبر با کا های مختلف روی داده آموزش ترین شده و دقت الگوریتم روی داده های آموزش و تست آورده شده است."
      ],
      "metadata": {
        "id": "8fsJWWoQA77_"
      }
    },
    {
      "cell_type": "code",
      "source": [
        "# k nearest neighbors with different k\n",
        "for i in [1 , 3 ,5]:\n",
        "  neigh = KNeighborsClassifier(n_neighbors=i)\n",
        "  neigh.fit(X_reduced_train, y_train)\n",
        "  print('test acc for k=', i, ':, ', neigh.score(X_reduced_test,y_test))\n",
        "  print('train acc for k=',i,': ',neigh.score(X_reduced_train,y_train))\n",
        "  print('-------------------------------------------')"
      ],
      "metadata": {
        "colab": {
          "base_uri": "https://localhost:8080/"
        },
        "id": "hBBPpjW8SURV",
        "outputId": "25303278-45c4-4435-c8f8-49783009ec1f"
      },
      "execution_count": null,
      "outputs": [
        {
          "output_type": "stream",
          "name": "stdout",
          "text": [
            "test acc for k= 1 :,  0.4520547945205479\n",
            "train acc for k= 1 :  1.0\n",
            "-------------------------------------------\n",
            "test acc for k= 3 :,  0.6712328767123288\n",
            "train acc for k= 3 :  0.91\n",
            "-------------------------------------------\n",
            "test acc for k= 5 :,  0.726027397260274\n",
            "train acc for k= 5 :  0.91\n",
            "-------------------------------------------\n"
          ]
        }
      ]
    },
    {
      "cell_type": "markdown",
      "source": [
        "# part4"
      ],
      "metadata": {
        "id": "6TZfjfasqJPt"
      }
    },
    {
      "cell_type": "markdown",
      "source": [
        "در این قسمت، الگوریتم ال دی ای با تعداد مولفه های اساسی متفاوتی برای پی سی ای، ترین و تست می شود. همچنین الگوریتم نزدیک ترین همسایه به ازای کاهای مختلف ترین میشود. دقت این دو الگوریتم به ازای پارامترهای مختلف با یکدیگر مقایسه شده اند."
      ],
      "metadata": {
        "id": "uUoE5IJVGI5H"
      }
    },
    {
      "cell_type": "code",
      "source": [
        "Ncom=[10 , 30 , 50 , 70 , 90, 99]\n",
        "fig,ax=plt.subplots(1,len(Ncom),figsize=(10,30))\n",
        "clf = LinearDiscriminantAnalysis()\n",
        "for j in range(len(Ncom)):\n",
        "  pca = PCA(n_components=Ncom[j])\n",
        "  pca.fit(X_train)\n",
        "  X_reduced_train=(pca.transform(X_train))\n",
        "  X_reduced_test=(pca.transform(X_test))\n",
        "  clf.fit(X_reduced_train, y_train)\n",
        "  print('Train acc for LDA with', Ncom[j], 'number of components: ' ,clf.score(X_reduced_train, y_train))\n",
        "  print('Test acc for LDA with', Ncom[j], 'number of components: ' ,clf.score(X_reduced_test, y_test))\n",
        "  for i in [1 , 3 ,5]:\n",
        "    neigh = KNeighborsClassifier(n_neighbors=i)\n",
        "    neigh.fit(X_reduced_train, y_train)\n",
        "    print('Train acc of k nearest neighbors for k=',i,': ',neigh.score(X_reduced_train,y_train))\n",
        "    print('Test acc of k nearest neighbors with k=', i, ': ', neigh.score(X_reduced_test,y_test)) \n",
        "  print('--------------------------------------------------------------------')\n",
        "\n",
        "  vector_transformed = (pca.inverse_transform(clf.scalings_.flatten()))\n",
        "  vector_transformed_img = np.real(np.reshape(vector_transformed, (600, 300)))\n",
        "  ax[j].imshow(vector_transformed_img,cmap='gray')\n",
        "  ax[j].axis('off')\n",
        "  #print(np.min(vector_transformed_img))\n",
        "  #print(np.max(vector_transformed_img))"
      ],
      "metadata": {
        "colab": {
          "base_uri": "https://localhost:8080/",
          "height": 1000
        },
        "id": "ob3ZH24eUUMk",
        "outputId": "1aee2afd-967e-44be-b588-ad016aa1f0f7"
      },
      "execution_count": null,
      "outputs": [
        {
          "output_type": "stream",
          "name": "stdout",
          "text": [
            "Train acc for LDA with 10 number of components:  0.91\n",
            "Test acc for LDA with 10 number of components:  1.0\n",
            "Train acc of k nearest neighbors for k= 1 :  1.0\n",
            "Test acc of k nearest neighbors with k= 1 :  0.5753424657534246\n",
            "Train acc of k nearest neighbors for k= 3 :  0.81\n",
            "Test acc of k nearest neighbors with k= 3 :  0.6712328767123288\n",
            "Train acc of k nearest neighbors for k= 5 :  0.84\n",
            "Test acc of k nearest neighbors with k= 5 :  0.684931506849315\n",
            "--------------------------------------------------------------------\n",
            "Train acc for LDA with 30 number of components:  1.0\n",
            "Test acc for LDA with 30 number of components:  1.0\n",
            "Train acc of k nearest neighbors for k= 1 :  1.0\n",
            "Test acc of k nearest neighbors with k= 1 :  0.4520547945205479\n",
            "Train acc of k nearest neighbors for k= 3 :  0.86\n",
            "Test acc of k nearest neighbors with k= 3 :  0.6575342465753424\n",
            "Train acc of k nearest neighbors for k= 5 :  0.84\n",
            "Test acc of k nearest neighbors with k= 5 :  0.6301369863013698\n",
            "--------------------------------------------------------------------\n",
            "Train acc for LDA with 50 number of components:  1.0\n",
            "Test acc for LDA with 50 number of components:  1.0\n",
            "Train acc of k nearest neighbors for k= 1 :  1.0\n",
            "Test acc of k nearest neighbors with k= 1 :  0.4383561643835616\n",
            "Train acc of k nearest neighbors for k= 3 :  0.87\n",
            "Test acc of k nearest neighbors with k= 3 :  0.6164383561643836\n",
            "Train acc of k nearest neighbors for k= 5 :  0.84\n",
            "Test acc of k nearest neighbors with k= 5 :  0.6027397260273972\n",
            "--------------------------------------------------------------------\n",
            "Train acc for LDA with 70 number of components:  1.0\n",
            "Test acc for LDA with 70 number of components:  0.9863013698630136\n",
            "Train acc of k nearest neighbors for k= 1 :  1.0\n",
            "Test acc of k nearest neighbors with k= 1 :  0.4520547945205479\n",
            "Train acc of k nearest neighbors for k= 3 :  0.85\n",
            "Test acc of k nearest neighbors with k= 3 :  0.6164383561643836\n",
            "Train acc of k nearest neighbors for k= 5 :  0.84\n",
            "Test acc of k nearest neighbors with k= 5 :  0.6164383561643836\n",
            "--------------------------------------------------------------------\n",
            "Train acc for LDA with 90 number of components:  1.0\n",
            "Test acc for LDA with 90 number of components:  1.0\n",
            "Train acc of k nearest neighbors for k= 1 :  1.0\n",
            "Test acc of k nearest neighbors with k= 1 :  0.4520547945205479\n",
            "Train acc of k nearest neighbors for k= 3 :  0.86\n",
            "Test acc of k nearest neighbors with k= 3 :  0.6301369863013698\n",
            "Train acc of k nearest neighbors for k= 5 :  0.79\n",
            "Test acc of k nearest neighbors with k= 5 :  0.6164383561643836\n",
            "--------------------------------------------------------------------\n",
            "Train acc for LDA with 99 number of components:  0.55\n",
            "Test acc for LDA with 99 number of components:  0.6575342465753424\n",
            "Train acc of k nearest neighbors for k= 1 :  1.0\n",
            "Test acc of k nearest neighbors with k= 1 :  0.4246575342465753\n",
            "Train acc of k nearest neighbors for k= 3 :  0.84\n",
            "Test acc of k nearest neighbors with k= 3 :  0.6712328767123288\n",
            "Train acc of k nearest neighbors for k= 5 :  0.83\n",
            "Test acc of k nearest neighbors with k= 5 :  0.6301369863013698\n",
            "--------------------------------------------------------------------\n"
          ]
        },
        {
          "output_type": "display_data",
          "data": {
            "text/plain": [
              "<Figure size 720x2160 with 6 Axes>"
            ],
            "image/png": "[encoded data removed]"
          },
          "metadata": {
            "needs_background": "light"
          }
        }
      ]
    },
    {
      "cell_type": "markdown",
      "source": [
        "همانطور که دیده می شود عملکرد ال دی ای در همه موارد بهتر است."
      ],
      "metadata": {
        "id": "iAcZWXH4IQw5"
      }
    }
  ]
}