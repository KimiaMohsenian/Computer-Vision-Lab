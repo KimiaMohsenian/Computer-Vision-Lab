{
  "nbformat": 4,
  "nbformat_minor": 0,
  "metadata": {
    "colab": {
      "provenance": [],
      "collapsed_sections": [
        "Q2IY9cxFYxX0",
        "P3jf4T5hKQAF",
        "HGgXDW9kLiYi",
        "iBupY0wyNvgw",
        "ia_imt0yOA6S",
        "QDA0CthTN3V-"
      ]
    },
    "kernelspec": {
      "name": "python3",
      "display_name": "Python 3"
    },
    "language_info": {
      "name": "python"
    }
  },
  "cells": [
    {
      "cell_type": "code",
      "execution_count": 1,
      "metadata": {
        "colab": {
          "base_uri": "https://localhost:8080/"
        },
        "id": "kcBSGVo4CABw",
        "outputId": "7e4550c6-566f-4cd4-ddcc-1886c7abfc98"
      },
      "outputs": [
        {
          "output_type": "stream",
          "name": "stdout",
          "text": [
            "Mounted at /content/drive\n"
          ]
        }
      ],
      "source": [
        "from google.colab import drive\n",
        "drive.mount('/content/drive')"
      ]
    },
    {
      "cell_type": "code",
      "source": [
        "dataPath_surprise = 'drive/My Drive/ml/Cohn-Kanade/surprise'\n",
        "dataPath_happy    = 'drive/My Drive/ml/Cohn-Kanade/happy'\n",
        "dataPath_neutral  = 'drive/My Drive/ml/Cohn-Kanade/neutral'\n",
        "dataPath_disgust  = 'drive/My Drive/ml/Cohn-Kanade/disgust'"
      ],
      "metadata": {
        "id": "bXA0fcgW5jTI"
      },
      "execution_count": 2,
      "outputs": []
    },
    {
      "cell_type": "code",
      "source": [
        "dataPath_surprise = 'drive/My Drive/CVLab/LAB1/Data/Cohn-Kanade/surprise'\n",
        "dataPath_happy = 'drive/My Drive/CVLab/LAB1/Data/Cohn-Kanade/happy'\n",
        "dataPath_neutral = 'drive/My Drive/CVLab/LAB1/Data/Cohn-Kanade/neutral'\n",
        "dataPath_disgust  = 'drive/My Drive/CVLab/LAB1/Data/Cohn-Kanade/disgust'"
      ],
      "metadata": {
        "id": "Q6W_jzBfC1WV"
      },
      "execution_count": null,
      "outputs": []
    },
    {
      "cell_type": "code",
      "source": [
        "import os\n",
        "import numpy as np\n",
        "from skimage.io import imread\n",
        "from skimage.transform import resize\n",
        "from sklearn.model_selection import train_test_split\n",
        "from sklearn.decomposition import PCA\n",
        "import matplotlib.pyplot as plt\n",
        "from sklearn.pipeline import make_pipeline\n",
        "from sklearn.preprocessing import StandardScaler\n",
        "from sklearn.svm import SVC\n",
        "from sklearn.svm import LinearSVC\n",
        "from random import randrange\n",
        "import random\n",
        "from sklearn.model_selection import GridSearchCV\n",
        "from mlxtend.plotting import plot_confusion_matrix\n",
        "from sklearn.metrics import confusion_matrix\n",
        "from sklearn.model_selection import cross_val_score"
      ],
      "metadata": {
        "id": "hUtsFT1ND-9b"
      },
      "execution_count": 3,
      "outputs": []
    },
    {
      "cell_type": "markdown",
      "source": [
        "در قسمت زیر، تصاویر مجموعه های خنثی، خوشحال و متعحب و متنفرخوانده می شوند و به همراه برچسب های آن ها ذخیره می شوند."
      ],
      "metadata": {
        "id": "-Jxgy5roufg9"
      }
    },
    {
      "cell_type": "code",
      "source": [
        "data_neutral = []\n",
        "labels_neutral = []\n",
        "\n",
        "data_happy = []\n",
        "labels_happy = []\n",
        "\n",
        "data_surprise = []\n",
        "labels_surprise = []\n",
        "\n",
        "data_disgust = []\n",
        "labels_disgust = []\n",
        "\n",
        "for file in os.listdir(dataPath_surprise):\n",
        "        if file[-3:] in {'jpg', 'png'}:\n",
        "              im = imread(dataPath_surprise +'/' + file,0) # read image\n",
        "              data_surprise.append((im.reshape(im.shape[0]*im.shape[1])))\n",
        "              labels_surprise.append('surprise')\n",
        "                    \n",
        "for file in os.listdir(dataPath_happy):\n",
        "        if file[-3:] in {'jpg', 'png'}:\n",
        "              im = imread(dataPath_happy +'/' + file,0) # read image\n",
        "              data_happy.append((im.reshape(im.shape[0]*im.shape[1])))\n",
        "              labels_happy.append('happy')\n",
        "\n",
        "for file in os.listdir(dataPath_neutral):\n",
        "        if file[-3:] in {'jpg', 'png'}:\n",
        "              im = imread(dataPath_neutral +'/' + file,0) # read image\n",
        "              data_neutral.append((im.reshape(im.shape[0]*im.shape[1])))\n",
        "              labels_neutral.append('neutral')\n",
        "\n",
        "for file in os.listdir(dataPath_disgust):\n",
        "        if file[-3:] in {'jpg', 'png'}:\n",
        "              im = imread(dataPath_disgust +'/' + file,0) # read image\n",
        "              data_disgust.append((im.reshape(im.shape[0]*im.shape[1])))\n",
        "              labels_disgust.append('disgust')"
      ],
      "metadata": {
        "id": "qDSlQWD1DHxN"
      },
      "execution_count": 4,
      "outputs": []
    },
    {
      "cell_type": "markdown",
      "source": [
        "در قسمت زیر، به ترتیب از هر کدام از مجموعه های خنثی، خوشحال و سورپرایز و متنفر، ۱۲۰، ۶۰ ، ۶۰ ، ۳۰ تصویر به صورت رندم به عنوان تصاویر آموزش و مابقی تصاویر به عنوان تصاویو تست جدا می شوند."
      ],
      "metadata": {
        "id": "AOjh659Vv5DU"
      }
    },
    {
      "cell_type": "code",
      "source": [
        "# train test split\n",
        "X_train_surprise, X_test_surprise, y_train_surprise, y_test_surprise = train_test_split(data_surprise, labels_surprise ,train_size=60 ,random_state=42)\n",
        "X_train_happy   , X_test_happy   , y_train_happy   , y_test_happy    = train_test_split(data_happy,    labels_happy    ,train_size=60 ,random_state=42)\n",
        "X_train_neutral , X_test_neutral , y_train_neutral , y_test_neutral  = train_test_split(data_neutral,  labels_neutral  ,train_size=120,random_state=42)\n",
        "X_train_disgust , X_test_disgust , y_train_disgust , y_test_disgust  = train_test_split(data_disgust,  labels_disgust  ,train_size=30 ,random_state=42)"
      ],
      "metadata": {
        "id": "R-vWHmO0D7Oa"
      },
      "execution_count": 5,
      "outputs": []
    },
    {
      "cell_type": "code",
      "source": [
        "X_train_total = X_train_surprise + X_train_happy + X_train_neutral + X_train_disgust\n",
        "y_train_total = y_train_surprise + y_train_happy + y_train_neutral + y_train_disgust\n",
        "X_test_total = X_test_surprise + X_test_happy + X_test_neutral + X_test_disgust\n",
        "y_test_total = y_test_surprise + y_test_happy + y_test_neutral + y_test_disgust"
      ],
      "metadata": {
        "id": "kjERKXcRFD54"
      },
      "execution_count": 6,
      "outputs": []
    },
    {
      "cell_type": "markdown",
      "source": [
        "در قسمت زیر، الگوریتم پی سی ای با ۳۰ مولفه اساسی روی داده های آموزش ترین می شود و سپس با استقاه از آن، داده های آموزش و تست کاهش بعد داده می شوند."
      ],
      "metadata": {
        "id": "P2x5hW5pwczP"
      }
    },
    {
      "cell_type": "code",
      "source": [
        "# training PCA\n",
        "pca = PCA(n_components=30)\n",
        "pca.fit(X_train_total)\n",
        "X_reduced_train=(pca.transform(X_train_total))\n",
        "X_reduced_test=(pca.transform(X_test_total))\n",
        "print('Shape of the reduced train data: ', np.shape(X_reduced_train))\n",
        "print('Shape of the reduced test data: ', np.shape(X_reduced_test))"
      ],
      "metadata": {
        "colab": {
          "base_uri": "https://localhost:8080/"
        },
        "id": "8dAvkrZAFbH4",
        "outputId": "0d74e966-7577-4d67-fbdf-62156b6ef26e"
      },
      "execution_count": 7,
      "outputs": [
        {
          "output_type": "stream",
          "name": "stdout",
          "text": [
            "Shape of the reduced train data:  (270, 30)\n",
            "Shape of the reduced test data:  (140, 30)\n"
          ]
        }
      ]
    },
    {
      "cell_type": "code",
      "source": [
        "Xtrain_reduced_surprise = X_reduced_train[0:60]\n",
        "Xtrain_reduced_happy = X_reduced_train[60:120]\n",
        "Xtrain_reduced_netral = X_reduced_train[120:240]\n",
        "\n",
        "Xtest_reduced_surprise = X_reduced_train[0:60]\n",
        "Xtest_reduced_happy = X_reduced_train[60:120]\n",
        "Xtest_reduced_netral = X_reduced_train[120:240]"
      ],
      "metadata": {
        "id": "slc5Fm66FweS"
      },
      "execution_count": null,
      "outputs": []
    },
    {
      "cell_type": "markdown",
      "source": [
        "در بخش زیر، تابعی برای کراس ولیدیشن تعریف کردیم. این تابع در ورودی، داده ها را به همراه لیبل های آن، تعداد فولدها و تابع تخمین میگیرد. سپس  داده را شافل می کند. در ادامه با بخش بندی کردن دیتای شافل شده، هر بار یکی از بخش ها به عنوان داده ولیدیشن در نظر گرفته می شود و کا منهای یک بخش دیگر به عنوان داده آموزش.  برای هر کدام یک از حالت ها، الگوریتم داده شده روی داده آموزش ترین می شود و درستی آن روی داده ولیدیشن حساب می شود. سپس میانگین عملکرد تابع تخمین به ازای همه حالت ها به دست می آید و در خروجی تابع قرار می گیرد."
      ],
      "metadata": {
        "id": "Qt03Ak2uyt44"
      }
    },
    {
      "cell_type": "code",
      "source": [
        "def cross_validation(X, y, k, estimator):\n",
        "  fold_size = int(len(X)/k)\n",
        "  index_range = np.arange(0, len(X))\n",
        "  random.shuffle(index_range)\n",
        "  X_shuffled = [X[i] for i in index_range]\n",
        "  y_shuffled = [y[i] for i in index_range]\n",
        "  acc = 0\n",
        "  for i in range(k):\n",
        "    X_train_fold = X_shuffled[0:i*fold_size] + X_shuffled[(i+1)*fold_size:]\n",
        "    y_train_fold = y_shuffled[0:i*fold_size] + y_shuffled[(i+1)*fold_size:]\n",
        "    X_val_fold = X_shuffled[i*fold_size:(i+1)*fold_size]\n",
        "    y_val_fold = y_shuffled[i*fold_size:(i+1)*fold_size]\n",
        "\n",
        "    estimator.fit(X_train_fold, y_train_fold)\n",
        "    acc = acc + estimator.score(X_val_fold, y_val_fold)\n",
        "  acc = acc/k\n",
        "  return acc"
      ],
      "metadata": {
        "id": "EsNYlqVVM0bH"
      },
      "execution_count": 10,
      "outputs": []
    },
    {
      "cell_type": "markdown",
      "source": [
        "در این آزمایش ۳ کلاس وجود دارد. طبق خواسته سوال می بایست طبقه بندهای جداگانه بین هر کلاس و بقیه حالت ها ساخته شود. بدین منظور سه طبقه بند ساخته شده که خروجی طبقه بند اول، احتمال تعلق به کلاس متعجب را نشان می دهد. خروجی طبقه بند دوم، احتمال تعلق به کلاس خوشحال و خروجی طبقه بند سوم، احتمال تعلق به کلاس خنثی را نشان می دهد. آموزش هر طبقه بند با استفاده از کراس ولیدیشن و به ازای پارامترهای مختلف سی انجام می شود."
      ],
      "metadata": {
        "id": "7pco24KFF6xa"
      }
    },
    {
      "cell_type": "markdown",
      "source": [
        "### \"Surprise vs others\" classifier:"
      ],
      "metadata": {
        "id": "Q2IY9cxFYxX0"
      }
    },
    {
      "cell_type": "code",
      "source": [
        "# training SVM\n",
        "C=np.logspace(-5,5,21)\n",
        "C = [0.0001 ,0.01, 0.1, 1, 10]\n",
        "for c in C:\n",
        "  accuracies = []\n",
        "  clf_surprise = make_pipeline(StandardScaler(),LinearSVC(C=c, dual=False))\n",
        "  y_train_surprise = np.array(y_train_total)=='surprise'\n",
        "  accuracy = cross_validation(X_reduced_train, y_train_surprise, 5, clf_surprise)\n",
        "  print('Train Accuracy for C=', c, ': ', accuracy)\n",
        "  accuracies.append(accuracy)"
      ],
      "metadata": {
        "colab": {
          "base_uri": "https://localhost:8080/"
        },
        "id": "caM5ItmjGasY",
        "outputId": "9cc2fa8d-072d-44c9-febe-92c138f9f496"
      },
      "execution_count": null,
      "outputs": [
        {
          "output_type": "stream",
          "name": "stdout",
          "text": [
            "Train Accuracy for C= 0.0001 :  0.9444444444444444\n",
            "Train Accuracy for C= 0.01 :  0.9407407407407407\n",
            "Train Accuracy for C= 0.1 :  0.9407407407407407\n",
            "Train Accuracy for C= 1 :  0.9222222222222223\n",
            "Train Accuracy for C= 10 :  0.9074074074074072\n"
          ]
        }
      ]
    },
    {
      "cell_type": "markdown",
      "source": [
        "همان طور که دیده می شود، به ازای c=1 بهترین نتیجه را داریم."
      ],
      "metadata": {
        "id": "kX2EYiGzHO44"
      }
    },
    {
      "cell_type": "code",
      "source": [
        "best_clf_surprise =LinearSVC(C=1, dual=False)\n",
        "best_clf_surprise.fit(X_reduced_train, y_train_surprise)"
      ],
      "metadata": {
        "colab": {
          "base_uri": "https://localhost:8080/"
        },
        "id": "U2PGZw_Ze98t",
        "outputId": "348aff17-c0f8-4da7-865e-0b08c7b0816b"
      },
      "execution_count": null,
      "outputs": [
        {
          "output_type": "execute_result",
          "data": {
            "text/plain": [
              "LinearSVC(C=1, dual=False)"
            ]
          },
          "metadata": {},
          "execution_count": 192
        }
      ]
    },
    {
      "cell_type": "code",
      "source": [
        "# testing\n",
        "y_test_surprise = np.array(y_test_total)=='surprise' # true labels for \"surprise vs others\"\n",
        "y_test_surprise_predicted = best_clf_surprise.predict(X_reduced_test) # predicted labels"
      ],
      "metadata": {
        "id": "bkh27MaxclED"
      },
      "execution_count": null,
      "outputs": []
    },
    {
      "cell_type": "code",
      "source": [
        "# printing confusion matrix\n",
        "conf_mat = confusion_matrix(y_test_surprise, y_test_surprise_predicted)\n",
        "fig, ax = plot_confusion_matrix(conf_mat=conf_mat, figsize=(3, 3), cmap=plt.cm.Blues)\n",
        "plt.xlabel('Predictions', fontsize=12)\n",
        "plt.ylabel('Actuals', fontsize=12)\n",
        "plt.title('Confusion Matrix for Surprise Clssifier', fontsize=15)\n",
        "plt.show()"
      ],
      "metadata": {
        "colab": {
          "base_uri": "https://localhost:8080/",
          "height": 254
        },
        "id": "GLUdmYO1cilx",
        "outputId": "553058c2-adb0-44bf-cc8b-90e15de4184c"
      },
      "execution_count": null,
      "outputs": [
        {
          "output_type": "display_data",
          "data": {
            "text/plain": [
              "<Figure size 216x216 with 1 Axes>"
            ],
            "image/png": "[encoded data removed]"
          },
          "metadata": {
            "needs_background": "light"
          }
        }
      ]
    },
    {
      "cell_type": "markdown",
      "source": [
        "همان طور که از ماتریس درهم ریختگی بالا دیده می شود، از 112 داده که لیبل صفر داشتند، 107 داده به درستی طبقه بندی شده اند. از ۲۸ داده که لیبل یک داشتند، همگی  داده به درستی طبقه بندی شدند."
      ],
      "metadata": {
        "id": "Ugc2o58EIv6g"
      }
    },
    {
      "cell_type": "code",
      "source": [
        "print('Accuracy of the Surprise classifier on the test data: ', best_clf_surprise.score(X_reduced_test, y_test_surprise))"
      ],
      "metadata": {
        "colab": {
          "base_uri": "https://localhost:8080/"
        },
        "id": "n_ozzYneJRPz",
        "outputId": "2714b365-14e4-4207-ab5b-83a462efc640"
      },
      "execution_count": null,
      "outputs": [
        {
          "output_type": "stream",
          "name": "stdout",
          "text": [
            "Accuracy of the Surprise classifier on the test data:  0.9642857142857143\n"
          ]
        }
      ]
    },
    {
      "cell_type": "code",
      "source": [
        "from sklearn.metrics import PrecisionRecallDisplay\n",
        "display = PrecisionRecallDisplay.from_estimator(\n",
        "    best_clf_surprise, X_reduced_test, y_test_surprise)\n",
        "_ = display.ax_.set_title(\"2-class Precision-Recall curve for Surprise Class\")"
      ],
      "metadata": {
        "id": "gYg8vzw9c3fO",
        "colab": {
          "base_uri": "https://localhost:8080/",
          "height": 295
        },
        "outputId": "ca547351-8bce-4106-9e5c-cb19ba41b458"
      },
      "execution_count": null,
      "outputs": [
        {
          "output_type": "display_data",
          "data": {
            "text/plain": [
              "<Figure size 432x288 with 1 Axes>"
            ],
            "image/png": "[encoded data removed]"
          },
          "metadata": {
            "needs_background": "light"
          }
        }
      ]
    },
    {
      "cell_type": "markdown",
      "source": [
        "در قسمت های زیر، به طرق مشابه باقی طبقه بندها آموزش و تست شده اند."
      ],
      "metadata": {
        "id": "BsGYlgeMJ88A"
      }
    },
    {
      "cell_type": "markdown",
      "source": [
        "### \"Happy vs others\" classifier:"
      ],
      "metadata": {
        "id": "P3jf4T5hKQAF"
      }
    },
    {
      "cell_type": "code",
      "source": [
        "# training SVM\n",
        "C = [0.001 ,0.01, 0.1, 1, 10,100]\n",
        "for c in C:\n",
        "  accuracies = []\n",
        "  clf_happy = make_pipeline(StandardScaler(),LinearSVC(C=c, dual=False))\n",
        "  y_train_happy = np.array(y_train_total)=='happy'\n",
        "  accuracy = cross_validation(X_reduced_train, y_train_happy, 5, clf_surprise)\n",
        "  print('Train Accuracy for C=', c, ': ', accuracy)\n",
        "  accuracies.append(accuracy)"
      ],
      "metadata": {
        "colab": {
          "base_uri": "https://localhost:8080/"
        },
        "outputId": "5dfa0d17-a6b5-464a-823f-ac900341cc44",
        "id": "Ny63gsqcKIbY"
      },
      "execution_count": null,
      "outputs": [
        {
          "output_type": "stream",
          "name": "stdout",
          "text": [
            "Train Accuracy for C= 0.001 :  0.9037037037037037\n",
            "Train Accuracy for C= 0.01 :  0.9074074074074072\n",
            "Train Accuracy for C= 0.1 :  0.9111111111111111\n",
            "Train Accuracy for C= 1 :  0.9074074074074074\n",
            "Train Accuracy for C= 10 :  0.8925925925925927\n",
            "Train Accuracy for C= 100 :  0.874074074074074\n"
          ]
        }
      ]
    },
    {
      "cell_type": "markdown",
      "source": [
        "همان طور که دیده می شود، به ازای c=0.1 بهترین نتیجه را داریم."
      ],
      "metadata": {
        "id": "VoRTRtYFKIba"
      }
    },
    {
      "cell_type": "code",
      "source": [
        "best_clf_happy =LinearSVC(C=0.1, dual=False)\n",
        "best_clf_happy.fit(X_reduced_train, y_train_happy)"
      ],
      "metadata": {
        "colab": {
          "base_uri": "https://localhost:8080/"
        },
        "outputId": "aa90f0a1-d02c-4e8f-e9fb-e379e2836348",
        "id": "eQxTNPeXKIbb"
      },
      "execution_count": null,
      "outputs": [
        {
          "output_type": "execute_result",
          "data": {
            "text/plain": [
              "LinearSVC(C=0.1, dual=False)"
            ]
          },
          "metadata": {},
          "execution_count": 210
        }
      ]
    },
    {
      "cell_type": "code",
      "source": [
        "# testing\n",
        "y_test_happy = np.array(y_test_total)=='happy' # true labels for \"surprise vs others\"\n",
        "y_test_happy_predicted = best_clf_happy.predict(X_reduced_test) # predicted labels"
      ],
      "metadata": {
        "id": "vDji7ftKKIbc"
      },
      "execution_count": null,
      "outputs": []
    },
    {
      "cell_type": "code",
      "source": [
        "# printing confusion matrix\n",
        "conf_mat = confusion_matrix(y_test_happy, y_test_happy_predicted)\n",
        "fig, ax = plot_confusion_matrix(conf_mat=conf_mat, figsize=(3, 3), cmap=plt.cm.Blues)\n",
        "plt.xlabel('Predictions', fontsize=12)\n",
        "plt.ylabel('Actuals', fontsize=12)\n",
        "plt.title('Confusion Matrix for Happy Clssifier', fontsize=15)\n",
        "plt.show()"
      ],
      "metadata": {
        "colab": {
          "base_uri": "https://localhost:8080/",
          "height": 254
        },
        "outputId": "671ec8ab-371d-4a1a-801d-538283c99dca",
        "id": "zUgRQlffKIbc"
      },
      "execution_count": null,
      "outputs": [
        {
          "output_type": "display_data",
          "data": {
            "text/plain": [
              "<Figure size 216x216 with 1 Axes>"
            ],
            "image/png": "[encoded data removed]"
          },
          "metadata": {
            "needs_background": "light"
          }
        }
      ]
    },
    {
      "cell_type": "markdown",
      "source": [
        "همان طور که از ماتریس درهم ریختگی بالا دیده می شود، از 115 داده که لیبل صفر داشتند، 108 داده به درستی طبقه بندی شده اند. از ۲۵ داده که لیبل ۱ داشتند، ۲۰ داده به درستی طبقه بندی شدند."
      ],
      "metadata": {
        "id": "djUg3kxnKIbc"
      }
    },
    {
      "cell_type": "code",
      "source": [
        "print('Accuracy of the Surprise classifier on the test data: ', best_clf_happy.score(X_reduced_test, y_test_happy))"
      ],
      "metadata": {
        "outputId": "b899dcf6-f5a9-44f2-e026-22ea4fc8bc2e",
        "colab": {
          "base_uri": "https://localhost:8080/"
        },
        "id": "uKrL0IFUKIbd"
      },
      "execution_count": null,
      "outputs": [
        {
          "output_type": "stream",
          "name": "stdout",
          "text": [
            "Accuracy of the Surprise classifier on the test data:  0.9142857142857143\n"
          ]
        }
      ]
    },
    {
      "cell_type": "code",
      "source": [
        "from sklearn.metrics import PrecisionRecallDisplay\n",
        "display = PrecisionRecallDisplay.from_estimator(\n",
        "    best_clf_happy, X_reduced_test, y_test_happy)\n",
        "_ = display.ax_.set_title(\"2-class Precision-Recall curve for Happy Class\")"
      ],
      "metadata": {
        "colab": {
          "base_uri": "https://localhost:8080/",
          "height": 295
        },
        "outputId": "be0bb4d6-2a15-476e-93ad-b0ea03dc8513",
        "id": "83noSYHeKIbd"
      },
      "execution_count": null,
      "outputs": [
        {
          "output_type": "display_data",
          "data": {
            "text/plain": [
              "<Figure size 432x288 with 1 Axes>"
            ],
            "image/png": "[encoded data removed]"
          },
          "metadata": {
            "needs_background": "light"
          }
        }
      ]
    },
    {
      "cell_type": "markdown",
      "source": [
        "### \"Neutral vs others\" classifier:"
      ],
      "metadata": {
        "id": "HGgXDW9kLiYi"
      }
    },
    {
      "cell_type": "code",
      "source": [
        "# training SVM\n",
        "C = [0.001 ,0.01, 0.1, 1, 10,100]\n",
        "for c in C:\n",
        "  accuracies = []\n",
        "  clf_neutral = make_pipeline(StandardScaler(),LinearSVC(C=c, dual=False))\n",
        "  y_train_neutral = np.array(y_train_total)=='neutral'\n",
        "  accuracy = cross_validation(X_reduced_train, y_train_neutral, 5, clf_neutral)\n",
        "  print('Train Accuracy for C=', c, ': ', accuracy)\n",
        "  accuracies.append(accuracy)"
      ],
      "metadata": {
        "colab": {
          "base_uri": "https://localhost:8080/"
        },
        "outputId": "a18cc2a2-d2e2-4878-b441-ba6a21f01c73",
        "id": "uvF8vfV7LiYj"
      },
      "execution_count": 17,
      "outputs": [
        {
          "output_type": "stream",
          "name": "stdout",
          "text": [
            "Train Accuracy for C= 0.001 :  0.7666666666666667\n",
            "Train Accuracy for C= 0.01 :  0.7962962962962963\n",
            "Train Accuracy for C= 0.1 :  0.7851851851851852\n",
            "Train Accuracy for C= 1 :  0.8185185185185185\n",
            "Train Accuracy for C= 10 :  0.8\n",
            "Train Accuracy for C= 100 :  0.8037037037037036\n"
          ]
        }
      ]
    },
    {
      "cell_type": "markdown",
      "source": [
        "همان طور که دیده می شود، به ازای c=1 بهترین نتیجه را داریم."
      ],
      "metadata": {
        "id": "iWgovTzsLiYk"
      }
    },
    {
      "cell_type": "code",
      "source": [
        "best_clf_neutral =LinearSVC(C=1, dual=False)\n",
        "best_clf_neutral.fit(X_reduced_train, y_train_neutral)"
      ],
      "metadata": {
        "colab": {
          "base_uri": "https://localhost:8080/"
        },
        "outputId": "0798597f-439e-4d84-ff31-b89b055c3d6c",
        "id": "bK54l5RBLiYk"
      },
      "execution_count": 18,
      "outputs": [
        {
          "output_type": "execute_result",
          "data": {
            "text/plain": [
              "LinearSVC(C=1, dual=False)"
            ]
          },
          "metadata": {},
          "execution_count": 18
        }
      ]
    },
    {
      "cell_type": "code",
      "source": [
        "# testing\n",
        "y_test_neutral = np.array(y_test_total)=='neutral' # true labels for \"surprise vs others\"\n",
        "y_test_neutral_predicted = best_clf_neutral.predict(X_reduced_test) # predicted labels"
      ],
      "metadata": {
        "id": "YF9QwsCJLiYl"
      },
      "execution_count": 19,
      "outputs": []
    },
    {
      "cell_type": "code",
      "source": [
        "# printing confusion matrix\n",
        "conf_mat = confusion_matrix(y_test_neutral, y_test_neutral_predicted)\n",
        "fig, ax = plot_confusion_matrix(conf_mat=conf_mat, figsize=(3, 3), cmap=plt.cm.Blues)\n",
        "plt.xlabel('Predictions', fontsize=12)\n",
        "plt.ylabel('Actuals', fontsize=12)\n",
        "plt.title('Confusion Matrix for Happy Clssifier', fontsize=15)\n",
        "plt.show()"
      ],
      "metadata": {
        "colab": {
          "base_uri": "https://localhost:8080/",
          "height": 254
        },
        "outputId": "aac5960f-94b9-4c84-f62e-2f07d488781c",
        "id": "-Juwqe5KLiYl"
      },
      "execution_count": 20,
      "outputs": [
        {
          "output_type": "display_data",
          "data": {
            "text/plain": [
              "<Figure size 216x216 with 1 Axes>"
            ],
            "image/png": "[encoded data removed]"
          },
          "metadata": {
            "needs_background": "light"
          }
        }
      ]
    },
    {
      "cell_type": "markdown",
      "source": [
        "همان طور که از ماتریس درهم ریختگی بالا دیده می شود، از 70 داده که لیبل صفر داشتند، 56 داده به درستی طبقه بندی شده اند. از 70 داده که لیبل ۱ داشتند، 55 داده به درستی طبقه بندی شدند."
      ],
      "metadata": {
        "id": "uYb_n4XxLiYm"
      }
    },
    {
      "cell_type": "code",
      "source": [
        "print('Accuracy of the Surprise classifier on the test data: ', best_clf_neutral.score(X_reduced_test, y_test_neutral))"
      ],
      "metadata": {
        "outputId": "d616c581-3f03-44c0-e226-1e3b34f985ed",
        "colab": {
          "base_uri": "https://localhost:8080/"
        },
        "id": "hPre3loCLiYm"
      },
      "execution_count": 21,
      "outputs": [
        {
          "output_type": "stream",
          "name": "stdout",
          "text": [
            "Accuracy of the Surprise classifier on the test data:  0.8071428571428572\n"
          ]
        }
      ]
    },
    {
      "cell_type": "code",
      "source": [
        "from sklearn.metrics import PrecisionRecallDisplay\n",
        "display = PrecisionRecallDisplay.from_estimator(\n",
        "    best_clf_neutral, X_reduced_test, y_test_neutral)\n",
        "_ = display.ax_.set_title(\"2-class Precision-Recall curve for Neutral Class\")"
      ],
      "metadata": {
        "colab": {
          "base_uri": "https://localhost:8080/",
          "height": 295
        },
        "outputId": "3669a876-ab1d-4dfe-d5b7-2b02e3a8e37e",
        "id": "lT2_j1-nLiYm"
      },
      "execution_count": 22,
      "outputs": [
        {
          "output_type": "display_data",
          "data": {
            "text/plain": [
              "<Figure size 432x288 with 1 Axes>"
            ],
            "image/png": "[encoded data removed]"
          },
          "metadata": {
            "needs_background": "light"
          }
        }
      ]
    },
    {
      "cell_type": "markdown",
      "source": [
        "# multi-class svm "
      ],
      "metadata": {
        "id": "05OQoyyND82c"
      }
    },
    {
      "cell_type": "markdown",
      "source": [
        "در قسمت های پیشین برای هر کلاس یک جداکننده جدا اجرا کردیم و خطوط متناظر را بدست آوردیم. در این قسمت از این روش در حالت طبقه بند چند کلاسه استفاده می کنیم به این صورت که برای هر کلاس یک جداکننده پیدا می کنیم که آن را از بقیه جدا کند. سپس برای داده تست فاصله هر دیتا از هر کدام از این خطوط بیشتر باشد یعنی با اطمینان بیشتری لیبل مشابه با آن جداکننده داردو به این ترتیب لیبل ها را اختصاص می دهیم.\n"
      ],
      "metadata": {
        "id": "FMV1GXHaOssF"
      }
    },
    {
      "cell_type": "code",
      "source": [
        "clf = make_pipeline(StandardScaler(), LinearSVC())\n",
        "clf.fit(X_reduced_train, y_train_total)\n",
        "y_test_predicted = clf.predict(X_reduced_test) # predicted labels\n",
        "#print(y_test_predicted)\n",
        "print(clf[1].coef_)\n",
        "print('test  accuracy:',clf.score(X_reduced_test,y_test_total))\n",
        "print('train accuracy:',clf.score(X_reduced_train,y_train_total))"
      ],
      "metadata": {
        "colab": {
          "base_uri": "https://localhost:8080/"
        },
        "id": "6RWwSDxrOrEK",
        "outputId": "402d3c27-15a0-4b5b-9228-abf35a343e90"
      },
      "execution_count": 8,
      "outputs": [
        {
          "output_type": "stream",
          "name": "stdout",
          "text": [
            "[[-0.01000397  0.02613897  0.37321126 -0.18729366 -0.13012975 -0.06163858\n",
            "  -0.1773594   0.07774493 -0.06859533  0.01444542  0.10038733  0.20636304\n",
            "  -0.24297743  0.04727492 -0.30270201 -0.19597876 -0.08913685 -0.00695831\n",
            "   0.30481017  0.01595194  0.37801755  0.00509117  0.00184237 -0.03781523\n",
            "  -0.2552576   0.05899315  0.04651213 -0.1697261  -0.06008242 -0.32238152]\n",
            " [-0.20691829  0.22844185 -0.51392002  0.13909794 -0.19182512  0.09624524\n",
            "   0.28995483  0.14595352  1.21115616 -0.12740193 -0.63410414  0.22336756\n",
            "  -0.8846998   0.11761547 -0.99277646  0.01483689  0.09382242  0.08880395\n",
            "  -0.22397602  0.87107351 -0.02333075 -0.16527538  0.08539316  0.15795181\n",
            "   0.22249492  0.06382663  0.84855136  0.01540879  0.64846391  0.00841826]\n",
            " [-0.05414676  0.15397512 -0.08135607  0.25782659 -0.02466238 -0.21663789\n",
            "   0.08631973  0.09317005  0.05826305 -0.0648717  -0.35437027 -0.05965781\n",
            "  -0.20200111  0.36162924  0.39488327 -0.16069417  0.18561059  0.01115272\n",
            "  -0.14737553 -0.85699298 -0.573848   -0.07280937  0.35970375 -0.06298709\n",
            "  -0.6040215   0.03649735 -0.73471623 -0.09169729 -0.56792292 -0.00561598]\n",
            " [-0.19438701 -0.09937488 -0.09201749 -0.54640202  0.19779462  0.14380399\n",
            "  -0.07026207 -0.4674944  -1.11202278  0.10764846  0.55665047 -0.1974426\n",
            "   1.00493793 -0.7242171   0.70954062  0.38623505 -0.42107859 -0.20783345\n",
            "  -0.25024909  0.15326217  0.12573107  0.1512622  -0.21070026  0.07562749\n",
            "   0.46236397  0.17813002 -0.13770088 -0.04247645  0.16727946  0.20492803]]\n",
            "test  accuracy: 0.8285714285714286\n",
            "train accuracy: 0.9037037037037037\n"
          ]
        },
        {
          "output_type": "stream",
          "name": "stderr",
          "text": [
            "/usr/local/lib/python3.7/dist-packages/sklearn/svm/_base.py:1208: ConvergenceWarning: Liblinear failed to converge, increase the number of iterations.\n",
            "  ConvergenceWarning,\n"
          ]
        }
      ]
    },
    {
      "cell_type": "markdown",
      "source": [
        "\n",
        "در اینجا همانطور که انتظار می رفت جداکننده 4 خط متفاوت است و لذا 4 بردار ضریب در خروجی خواهیم داشت. در این حالت داده ترین با دقت 90 درصد و داده تست با دقت 81 درصد به درستی لیبل گذاری می شوند. \n",
        "\n",
        "توجه داریم برای رسیدن به دقت بالاتر باید تعداد مولفه بیشتری در الگوریتم کاهش بعد نگهداری کنیم."
      ],
      "metadata": {
        "id": "MmtRaAT1QM1k"
      }
    },
    {
      "cell_type": "code",
      "source": [
        "# training SVM\n",
        "C = [0.001 ,0.01, 0.1, 1, 10,100]\n",
        "for c in C:\n",
        "  accuracies = []\n",
        "  clf_total = make_pipeline(StandardScaler(), LinearSVC(C=c))\n",
        "  accuracy = cross_validation(X_reduced_train, y_train_total, 5, clf_total)\n",
        "  #accuracy =cross_val_score(clf_total,X_reduced_train, y_train_total, cv= 5).mean()\n",
        "  print('Train Accuracy for C=', c, ': ', accuracy)\n",
        "  accuracies.append(accuracy)"
      ],
      "metadata": {
        "colab": {
          "base_uri": "https://localhost:8080/"
        },
        "id": "pQUB5QvUC_2P",
        "outputId": "e1cceb7b-3fc6-4394-8995-d8f2998facfa"
      },
      "execution_count": 11,
      "outputs": [
        {
          "output_type": "stream",
          "name": "stdout",
          "text": [
            "Train Accuracy for C= 0.001 :  0.7592592592592593\n",
            "Train Accuracy for C= 0.01 :  0.774074074074074\n",
            "Train Accuracy for C= 0.1 :  0.7333333333333332\n",
            "Train Accuracy for C= 1 :  0.7666666666666667\n"
          ]
        },
        {
          "output_type": "stream",
          "name": "stderr",
          "text": [
            "/usr/local/lib/python3.7/dist-packages/sklearn/svm/_base.py:1208: ConvergenceWarning: Liblinear failed to converge, increase the number of iterations.\n",
            "  ConvergenceWarning,\n",
            "/usr/local/lib/python3.7/dist-packages/sklearn/svm/_base.py:1208: ConvergenceWarning: Liblinear failed to converge, increase the number of iterations.\n",
            "  ConvergenceWarning,\n",
            "/usr/local/lib/python3.7/dist-packages/sklearn/svm/_base.py:1208: ConvergenceWarning: Liblinear failed to converge, increase the number of iterations.\n",
            "  ConvergenceWarning,\n",
            "/usr/local/lib/python3.7/dist-packages/sklearn/svm/_base.py:1208: ConvergenceWarning: Liblinear failed to converge, increase the number of iterations.\n",
            "  ConvergenceWarning,\n",
            "/usr/local/lib/python3.7/dist-packages/sklearn/svm/_base.py:1208: ConvergenceWarning: Liblinear failed to converge, increase the number of iterations.\n",
            "  ConvergenceWarning,\n",
            "/usr/local/lib/python3.7/dist-packages/sklearn/svm/_base.py:1208: ConvergenceWarning: Liblinear failed to converge, increase the number of iterations.\n",
            "  ConvergenceWarning,\n",
            "/usr/local/lib/python3.7/dist-packages/sklearn/svm/_base.py:1208: ConvergenceWarning: Liblinear failed to converge, increase the number of iterations.\n",
            "  ConvergenceWarning,\n",
            "/usr/local/lib/python3.7/dist-packages/sklearn/svm/_base.py:1208: ConvergenceWarning: Liblinear failed to converge, increase the number of iterations.\n",
            "  ConvergenceWarning,\n",
            "/usr/local/lib/python3.7/dist-packages/sklearn/svm/_base.py:1208: ConvergenceWarning: Liblinear failed to converge, increase the number of iterations.\n",
            "  ConvergenceWarning,\n"
          ]
        },
        {
          "output_type": "stream",
          "name": "stdout",
          "text": [
            "Train Accuracy for C= 10 :  0.7518518518518518\n",
            "Train Accuracy for C= 100 :  0.725925925925926\n"
          ]
        },
        {
          "output_type": "stream",
          "name": "stderr",
          "text": [
            "/usr/local/lib/python3.7/dist-packages/sklearn/svm/_base.py:1208: ConvergenceWarning: Liblinear failed to converge, increase the number of iterations.\n",
            "  ConvergenceWarning,\n",
            "/usr/local/lib/python3.7/dist-packages/sklearn/svm/_base.py:1208: ConvergenceWarning: Liblinear failed to converge, increase the number of iterations.\n",
            "  ConvergenceWarning,\n",
            "/usr/local/lib/python3.7/dist-packages/sklearn/svm/_base.py:1208: ConvergenceWarning: Liblinear failed to converge, increase the number of iterations.\n",
            "  ConvergenceWarning,\n",
            "/usr/local/lib/python3.7/dist-packages/sklearn/svm/_base.py:1208: ConvergenceWarning: Liblinear failed to converge, increase the number of iterations.\n",
            "  ConvergenceWarning,\n",
            "/usr/local/lib/python3.7/dist-packages/sklearn/svm/_base.py:1208: ConvergenceWarning: Liblinear failed to converge, increase the number of iterations.\n",
            "  ConvergenceWarning,\n",
            "/usr/local/lib/python3.7/dist-packages/sklearn/svm/_base.py:1208: ConvergenceWarning: Liblinear failed to converge, increase the number of iterations.\n",
            "  ConvergenceWarning,\n"
          ]
        }
      ]
    },
    {
      "cell_type": "markdown",
      "source": [
        "در این قسمت سعی می کنیم پارامتر سی را طوری تعیین کنیم که بهینه ترین عملکرد را داشته باشد. همانطور که مشاهده شد این مقدار 0.1 می باشد."
      ],
      "metadata": {
        "id": "34zccc9uQ3P6"
      }
    },
    {
      "cell_type": "code",
      "source": [
        "clf = make_pipeline(StandardScaler(), LinearSVC(C=0.1))\n",
        "clf.fit(X_reduced_train, y_train_total)\n",
        "y_test_predicted = clf.predict(X_reduced_test) # predicted labels\n",
        "#print(y_test_predicted)\n",
        "#print(clf[1].coef_)\n",
        "print('test  accuracy:',clf.score(X_reduced_test,y_test_total))\n",
        "print('train accuracy:',clf.score(X_reduced_train,y_train_total))"
      ],
      "metadata": {
        "colab": {
          "base_uri": "https://localhost:8080/"
        },
        "id": "wjqdIJnssIX8",
        "outputId": "783d330e-96b7-43c4-d716-fdc2ff3339a5"
      },
      "execution_count": 23,
      "outputs": [
        {
          "output_type": "stream",
          "name": "stdout",
          "text": [
            "test  accuracy: 0.8214285714285714\n",
            "train accuracy: 0.8740740740740741\n"
          ]
        }
      ]
    },
    {
      "cell_type": "markdown",
      "source": [
        "مشاهده می کنیم خطای ترین کمی بدتر شده است ولی در مقابل خطا تست بهتر شده است."
      ],
      "metadata": {
        "id": "6ts-_y_GRUwN"
      }
    },
    {
      "cell_type": "code",
      "source": [
        "conf_mat = confusion_matrix(y_test_total, y_test_predicted)\n",
        "fig, ax = plot_confusion_matrix(conf_mat=conf_mat, figsize=(6, 6), cmap=plt.cm.Blues)\n",
        "plt.xlabel('Predictions', fontsize=12)\n",
        "plt.ylabel('Actuals', fontsize=12)\n",
        "plt.title('Confusion Matrix for Surprise Clssifier', fontsize=15)\n",
        "plt.show()"
      ],
      "metadata": {
        "colab": {
          "base_uri": "https://localhost:8080/",
          "height": 425
        },
        "id": "osWDG6fGEhmF",
        "outputId": "99355069-fde4-46b1-9bef-39a92454e262"
      },
      "execution_count": 24,
      "outputs": [
        {
          "output_type": "display_data",
          "data": {
            "text/plain": [
              "<Figure size 432x432 with 1 Axes>"
            ],
            "image/png": "[encoded data removed]"
          },
          "metadata": {
            "needs_background": "light"
          }
        }
      ]
    },
    {
      "cell_type": "code",
      "source": [
        "from sklearn.metrics import precision_recall_curve\n",
        "from sklearn.metrics import average_precision_score\n",
        "from sklearn.preprocessing import label_binarize\n",
        "\n",
        "# For each class\n",
        "precision = dict()\n",
        "recall = dict()\n",
        "average_precision = dict()\n",
        "\n",
        "Y_test = label_binarize(y_test_total, classes=['surprise','happy', 'neutral', 'disgust'])\n",
        "Y_predicted = label_binarize(y_test_predicted, classes=['surprise','happy', 'neutral', 'disgust'])\n",
        "\n",
        "for i in range(4):\n",
        "    precision[i], recall[i], _ = precision_recall_curve(Y_test[:, i], Y_predicted[:, i])\n",
        "    average_precision[i] = average_precision_score(Y_test[:, i], Y_predicted[:, i])\n",
        "\n",
        "precision[\"micro\"], recall[\"micro\"], _ = precision_recall_curve(\n",
        "    Y_test.ravel(), Y_predicted.ravel()\n",
        ")\n",
        "average_precision[\"micro\"] = average_precision_score(Y_test, Y_predicted, average=\"micro\")\n",
        "\n",
        "# plotting\n",
        "display = PrecisionRecallDisplay(\n",
        "    recall=recall[\"micro\"],\n",
        "    precision=precision[\"micro\"],\n",
        "    average_precision=average_precision[\"micro\"],\n",
        ")\n",
        "display.plot()\n",
        "_ = display.ax_.set_title(\"Micro-averaged over all classes\")"
      ],
      "metadata": {
        "colab": {
          "base_uri": "https://localhost:8080/",
          "height": 295
        },
        "id": "DWULUNOdIGo7",
        "outputId": "9812235c-51be-4fa4-e59a-2fe78cc64c9b"
      },
      "execution_count": 31,
      "outputs": [
        {
          "output_type": "display_data",
          "data": {
            "text/plain": [
              "<Figure size 432x288 with 1 Axes>"
            ],
            "image/png": "[encoded data removed]"
          },
          "metadata": {
            "needs_background": "light"
          }
        }
      ]
    },
    {
      "cell_type": "markdown",
      "source": [
        "# Section 2"
      ],
      "metadata": {
        "id": "AgU7d7V8IM_g"
      }
    },
    {
      "cell_type": "markdown",
      "source": [
        "در این قسمت از کرنل غیرخطی استفاده میکنیم. با استفاده از گرید سرچ، برای هر حالت، بهترین پارامترها را برای سی و سیگمای کرنل گوسی به دست می آوریم. "
      ],
      "metadata": {
        "id": "1YXvBoENfY1C"
      }
    },
    {
      "cell_type": "markdown",
      "source": [
        "### \"Surprise vs others\" classifier:"
      ],
      "metadata": {
        "id": "iBupY0wyNvgw"
      }
    },
    {
      "cell_type": "code",
      "source": [
        "# Hyperparameter tunning using greed search\n",
        "grid_param = {\"C\":  np.logspace(-5, 5, 11),\n",
        "             \"gamma\": np.logspace(-10, 2, 13)}\n",
        "\n",
        "grid_search_surprise = GridSearchCV(estimator = SVC(), param_grid = grid_param, return_train_score=True,\n",
        "                          cv = 3, n_jobs = -1, verbose = 2)\n",
        "\n",
        "# fitting the result of grid search on validation data\n",
        "scale=StandardScaler()\n",
        "scale.fit(X_reduced_train)\n",
        "grid_search_surprise.fit(scale.transform(X_reduced_train), y_train_surprise)\n",
        "print('Best parameters found the Surprise Classifier: ', grid_search_surprise.best_params_)"
      ],
      "metadata": {
        "colab": {
          "base_uri": "https://localhost:8080/"
        },
        "id": "h7YRSOHfWImT",
        "outputId": "a9c67890-4505-43de-d464-170b728867ec"
      },
      "execution_count": null,
      "outputs": [
        {
          "output_type": "stream",
          "name": "stdout",
          "text": [
            "Fitting 3 folds for each of 143 candidates, totalling 429 fits\n",
            "Best parameters found the Surprise Classifier:  {'C': 100.0, 'gamma': 0.001}\n"
          ]
        }
      ]
    },
    {
      "cell_type": "code",
      "source": [
        "clf = make_pipeline(StandardScaler(),SVC(C=100, gamma=0.001))\n",
        "clf.fit(X_reduced_train, y_train_surprise)\n",
        "y_test_predicted = clf.predict(X_reduced_test) # predicted labels\n",
        "\n",
        "print('test  accuracy:',clf.score(X_reduced_test,y_test_surprise))\n",
        "print('train accuracy:',clf.score(X_reduced_train,y_train_surprise))"
      ],
      "metadata": {
        "colab": {
          "base_uri": "https://localhost:8080/"
        },
        "id": "5EA5zpYQeAp1",
        "outputId": "7269147d-f0fa-4820-ead6-48eca0827ff6"
      },
      "execution_count": null,
      "outputs": [
        {
          "output_type": "stream",
          "name": "stdout",
          "text": [
            "test  accuracy: 0.9785714285714285\n",
            "train accuracy: 0.9740740740740741\n"
          ]
        }
      ]
    },
    {
      "cell_type": "markdown",
      "source": [
        "همانطور که مشاهده می کنیم دقت ما در حالت گوسی نسبت به خطی از 96 درصد به 97 درصد افزایش یافته است. که این نتیجه مورد انتظار است زیرا کرنل گوسی داده ها را در فضای بزرگتری از حالت خطی طبقه بندی می کند."
      ],
      "metadata": {
        "id": "jHH6H-LFVWiJ"
      }
    },
    {
      "cell_type": "markdown",
      "source": [
        "### \"Happy vs others\" classifier: "
      ],
      "metadata": {
        "id": "ia_imt0yOA6S"
      }
    },
    {
      "cell_type": "code",
      "source": [
        "# Hyperparameter tunning using greed search\n",
        "grid_param = {\"C\":  np.logspace(-5, 5, 11),\n",
        "             \"gamma\": np.logspace(-10, 2, 13)}\n",
        "\n",
        "grid_search_happy = GridSearchCV(estimator = SVC(), param_grid = grid_param, return_train_score=True,\n",
        "                          cv = 3, n_jobs = -1, verbose = 2)\n",
        "\n",
        "# fitting the result of grid search on validation data\n",
        "scale=StandardScaler()\n",
        "scale.fit(X_reduced_train)\n",
        "grid_search_happy.fit(scale.transform(X_reduced_train), y_train_happy)\n",
        "print('Best parameters found for the Happy Classifier: ', grid_search_happy.best_params_)"
      ],
      "metadata": {
        "colab": {
          "base_uri": "https://localhost:8080/"
        },
        "id": "g6GDs6YZOHpB",
        "outputId": "6877c309-6d7d-48c1-b64d-a90761a05e88"
      },
      "execution_count": null,
      "outputs": [
        {
          "output_type": "stream",
          "name": "stdout",
          "text": [
            "Fitting 3 folds for each of 143 candidates, totalling 429 fits\n",
            "Best parameters found for the Happy Classifier:  {'C': 100000.0, 'gamma': 1e-07}\n"
          ]
        }
      ]
    },
    {
      "cell_type": "code",
      "source": [
        "clf = make_pipeline(StandardScaler(),SVC(C=100000, gamma=0.0000001))\n",
        "clf.fit(X_reduced_train, y_train_happy)\n",
        "y_test_predicted = clf.predict(X_reduced_test) # predicted labels\n",
        "\n",
        "print('test  accuracy:',clf.score(X_reduced_test,y_test_happy))\n",
        "print('train accuracy:',clf.score(X_reduced_train,y_train_happy))"
      ],
      "metadata": {
        "colab": {
          "base_uri": "https://localhost:8080/"
        },
        "id": "GDzgQgCySiTl",
        "outputId": "1d77618b-de84-4950-8098-53c458044c1a"
      },
      "execution_count": null,
      "outputs": [
        {
          "output_type": "stream",
          "name": "stdout",
          "text": [
            "test  accuracy: 0.9142857142857143\n",
            "train accuracy: 0.9333333333333333\n"
          ]
        }
      ]
    },
    {
      "cell_type": "markdown",
      "source": [
        "دقتی مشابه حالت خطی دارد."
      ],
      "metadata": {
        "id": "-wF1F_NFWCTa"
      }
    },
    {
      "cell_type": "markdown",
      "source": [
        "### \"Neutral vs others\" classifier:"
      ],
      "metadata": {
        "id": "QDA0CthTN3V-"
      }
    },
    {
      "cell_type": "code",
      "source": [
        "# Hyperparameter tunning using greed search\n",
        "grid_param = {\"C\":  np.logspace(-5, 5, 11),\n",
        "             \"gamma\": np.logspace(-10, 2, 13)}\n",
        "\n",
        "grid_search_neutral = GridSearchCV(estimator = SVC(), param_grid = grid_param, return_train_score=True,\n",
        "                          cv = 3, n_jobs = -1, verbose = 2)\n",
        "\n",
        "# fitting the result of grid search on validation data\n",
        "scale=StandardScaler()\n",
        "scale.fit(X_reduced_train)\n",
        "grid_search_neutral.fit(scale.transform(X_reduced_train), y_train_neutral)\n",
        "print('Best parameters found for the Happy Classifier: ', grid_search_neutral.best_params_)"
      ],
      "metadata": {
        "colab": {
          "base_uri": "https://localhost:8080/"
        },
        "id": "bRy2BhELNTmp",
        "outputId": "b743f3aa-eefd-4151-e73b-151a7bbcc177"
      },
      "execution_count": null,
      "outputs": [
        {
          "output_type": "stream",
          "name": "stdout",
          "text": [
            "Fitting 3 folds for each of 143 candidates, totalling 429 fits\n",
            "Best parameters found for the Happy Classifier:  {'C': 10000.0, 'gamma': 0.0001}\n"
          ]
        }
      ]
    },
    {
      "cell_type": "code",
      "source": [
        "clf = make_pipeline(StandardScaler(),SVC(C=10000, gamma=0.0001))\n",
        "clf.fit(X_reduced_train, y_train_neutral)\n",
        "y_test_predicted = clf.predict(X_reduced_test) # predicted labels\n",
        "\n",
        "print('test  accuracy:',clf.score(X_reduced_test,y_test_neutral))\n",
        "print('train accuracy:',clf.score(X_reduced_train,y_train_neutral))"
      ],
      "metadata": {
        "colab": {
          "base_uri": "https://localhost:8080/"
        },
        "id": "Z9DKmxHsNkZ4",
        "outputId": "469fc6aa-05f9-4a52-d1fd-ed04dcfe8e75"
      },
      "execution_count": null,
      "outputs": [
        {
          "output_type": "stream",
          "name": "stdout",
          "text": [
            "test  accuracy: 0.7928571428571428\n",
            "train accuracy: 0.9111111111111111\n"
          ]
        }
      ]
    },
    {
      "cell_type": "markdown",
      "source": [
        "دقتی مشابه حالت خطی دارد."
      ],
      "metadata": {
        "id": "Hbl8HpRlWtwY"
      }
    },
    {
      "cell_type": "markdown",
      "source": [
        "## multi-class svm"
      ],
      "metadata": {
        "id": "Rkcz8Pd8INjU"
      }
    },
    {
      "cell_type": "markdown",
      "source": [
        "در این قسمت از این روش در حالت طبقه بند چند کلاسه استفاده می کنیم به این صورت که برای هر کلاس یک جداکننده پیدا می کنیم که آن را از بقیه جدا کند. سپس برای داده تست فاصله هر دیتا از هر کدام از این خطوط بیشتر باشد یعنی با اطمینان بیشتری لیبل مشابه با آن جداکننده داردو به این ترتیب لیبل ها را اختصاص می دهیم.\n"
      ],
      "metadata": {
        "id": "Tsg3YQGLW85X"
      }
    },
    {
      "cell_type": "code",
      "source": [
        "clf = make_pipeline(StandardScaler(),SVC(kernel='rbf',decision_function_shape='ovr'))\n",
        "clf.fit(X_reduced_train, y_train_total)\n",
        "y_test_predicted = clf.predict(X_reduced_test) # predicted labels\n",
        "\n",
        "print('test  accuracy:',clf.score(X_reduced_test,y_test_total))\n",
        "print('train accuracy:',clf.score(X_reduced_train,y_train_total))"
      ],
      "metadata": {
        "colab": {
          "base_uri": "https://localhost:8080/"
        },
        "id": "e5O4ZZX3XGSa",
        "outputId": "6e7d04cb-246f-4ed3-bbc6-025e684328d3"
      },
      "execution_count": 33,
      "outputs": [
        {
          "output_type": "stream",
          "name": "stdout",
          "text": [
            "test  accuracy: 0.7285714285714285\n",
            "train accuracy: 0.8481481481481481\n"
          ]
        }
      ]
    },
    {
      "cell_type": "markdown",
      "source": [
        "بدون ست کردن پارامتر ها ، خطای ترین و تست هردو از حالت خطی بدتر شده است. در ادامه با روش گرید سرچ این پارامتر ها را تعیین کرده و دقت را مجددا بررسی می کنیم"
      ],
      "metadata": {
        "id": "uCbtXgT-Xd3g"
      }
    },
    {
      "cell_type": "code",
      "source": [
        "clf =SVC(decision_function_shape='ovr')\n",
        "scale=StandardScaler()\n",
        "scale.fit(X_reduced_train)\n",
        "grid_param = {\"C\":  np.logspace(-5, 5, 11),\n",
        "             \"gamma\": np.logspace(-10, 2, 13)}\n",
        "\n",
        "grid_search_neutral = GridSearchCV(estimator = clf, param_grid = grid_param, return_train_score=True,\n",
        "                          cv = 3, n_jobs = -1, verbose = 2)\n",
        "\n",
        "# fitting the result of grid search on validation data\n",
        "grid_search_neutral.fit(scale.transform(X_reduced_train), y_train_total)\n",
        "\n",
        "print('Best parameters found for the Neutral Clssifier: ', grid_search_neutral.best_params_)"
      ],
      "metadata": {
        "colab": {
          "base_uri": "https://localhost:8080/"
        },
        "id": "wKVu5D1nIT45",
        "outputId": "6c7dad1a-d703-4b48-8816-5d7b77a67bfb"
      },
      "execution_count": 34,
      "outputs": [
        {
          "output_type": "stream",
          "name": "stdout",
          "text": [
            "Fitting 3 folds for each of 143 candidates, totalling 429 fits\n",
            "Best parameters found for the Neutral Clssifier:  {'C': 1000.0, 'gamma': 0.0001}\n"
          ]
        }
      ]
    },
    {
      "cell_type": "code",
      "source": [
        "clf = make_pipeline(StandardScaler(),SVC(kernel='rbf',decision_function_shape='ovr',C=10, gamma=0.01))\n",
        "clf.fit(X_reduced_train, y_train_total)\n",
        "y_test_predicted = clf.predict(X_reduced_test) # predicted labels\n",
        "\n",
        "print('test  accuracy:',clf.score(X_reduced_test,y_test_total))\n",
        "print('train accuracy:',clf.score(X_reduced_train,y_train_total))"
      ],
      "metadata": {
        "colab": {
          "base_uri": "https://localhost:8080/"
        },
        "id": "ToPQwhKhmAKl",
        "outputId": "b468b633-ef5d-48c9-fcfb-c4d0db50db2f"
      },
      "execution_count": 35,
      "outputs": [
        {
          "output_type": "stream",
          "name": "stdout",
          "text": [
            "test  accuracy: 0.85\n",
            "train accuracy: 0.9555555555555556\n"
          ]
        }
      ]
    },
    {
      "cell_type": "markdown",
      "source": [
        "همانطور که مشاهده می کنیم دقت تست از 82 در صد در حالت خطی به 85 درصد افزایش یافته و دقت ترین هم از 90 در صد در حالت خطی به 97 درصد افزایش یافته است.\n",
        "\n",
        " این نتیجه مورد انتظار است زیرا کرنل گوسی داده ها را در فضای بزرگتری از حالت خطی طبقه بندی می کند.همچنین برای افزایش دقت می توان تعداد مولفه های بیشتری را در کاهش بعد نگه داشت."
      ],
      "metadata": {
        "id": "NmVcdWmlXzHH"
      }
    },
    {
      "cell_type": "code",
      "source": [
        "conf_mat = confusion_matrix(y_test_total, y_test_predicted)\n",
        "fig, ax = plot_confusion_matrix(conf_mat=conf_mat, figsize=(6, 6), cmap=plt.cm.Blues)\n",
        "plt.xlabel('Predictions', fontsize=12)\n",
        "plt.ylabel('Actuals', fontsize=12)\n",
        "plt.title('Confusion Matrix for Surprise Clssifier', fontsize=15)\n",
        "plt.show()"
      ],
      "metadata": {
        "id": "4OuunUPIIwHa",
        "outputId": "ce446fee-fa0f-4e09-dcfb-f9e4c99d02ac",
        "colab": {
          "base_uri": "https://localhost:8080/",
          "height": 425
        }
      },
      "execution_count": 36,
      "outputs": [
        {
          "output_type": "display_data",
          "data": {
            "text/plain": [
              "<Figure size 432x432 with 1 Axes>"
            ],
            "image/png": "[encoded data removed]"
          },
          "metadata": {
            "needs_background": "light"
          }
        }
      ]
    },
    {
      "cell_type": "code",
      "source": [
        "# For each class\n",
        "precision = dict()\n",
        "recall = dict()\n",
        "average_precision = dict()\n",
        "\n",
        "Y_test = label_binarize(y_test_total, classes=['surprise','happy', 'neutral', 'disgust'])\n",
        "Y_predicted = label_binarize(y_test_predicted, classes=['surprise','happy', 'neutral', 'disgust'])\n",
        "\n",
        "for i in range(4):\n",
        "    precision[i], recall[i], _ = precision_recall_curve(Y_test[:, i], Y_predicted[:, i])\n",
        "    average_precision[i] = average_precision_score(Y_test[:, i], Y_predicted[:, i])\n",
        "\n",
        "precision[\"micro\"], recall[\"micro\"], _ = precision_recall_curve(\n",
        "    Y_test.ravel(), Y_predicted.ravel()\n",
        ")\n",
        "average_precision[\"micro\"] = average_precision_score(Y_test, Y_predicted, average=\"micro\")\n",
        "\n",
        "# plotting\n",
        "display = PrecisionRecallDisplay(\n",
        "    recall=recall[\"micro\"],\n",
        "    precision=precision[\"micro\"],\n",
        "    average_precision=average_precision[\"micro\"],\n",
        ")\n",
        "display.plot()\n",
        "_ = display.ax_.set_title(\"Micro-averaged over all classes\")"
      ],
      "metadata": {
        "colab": {
          "base_uri": "https://localhost:8080/",
          "height": 295
        },
        "id": "W_UpNF9rQmWh",
        "outputId": "719051cc-2b3e-4f3f-a947-04a7624d7c6b"
      },
      "execution_count": 32,
      "outputs": [
        {
          "output_type": "display_data",
          "data": {
            "text/plain": [
              "<Figure size 432x288 with 1 Axes>"
            ],
            "image/png": "[encoded data removed]"
          },
          "metadata": {
            "needs_background": "light"
          }
        }
      ]
    }
  ]
}