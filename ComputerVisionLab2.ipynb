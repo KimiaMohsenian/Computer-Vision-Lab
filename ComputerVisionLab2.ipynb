{
  "nbformat": 4,
  "nbformat_minor": 0,
  "metadata": {
    "colab": {
      "provenance": [],
      "collapsed_sections": [
        "WLfZK4uAvIa1"
      ]
    },
    "kernelspec": {
      "name": "python3",
      "display_name": "Python 3"
    },
    "language_info": {
      "name": "python"
    }
  },
  "cells": [
    {
      "cell_type": "markdown",
      "source": [
        "# Section 0"
      ],
      "metadata": {
        "id": "XhSkmf5AdWSl"
      }
    },
    {
      "cell_type": "markdown",
      "source": [
        "مطابق رابطه اول تابع خطی را می توان به صورت ضرب دو ماتریس نوشت.برای این کار یک عدد یک برای ضریب ثابت تضافه می کنیم. با جایگذاری آن در رابطه اصلی رگرسیون حاصل را به صورت ضرب دو ماتریس می توان ساده کرد."
      ],
      "metadata": {
        "id": "fAqM1zXdeKUA"
      }
    },
    {
      "cell_type": "markdown",
      "source": [
        "\\begin{equation*}\n",
        "  f(x^i)=β_0 + \\beta_{11} x_1^i + ... + \\beta_{1P} x_P^i = \n",
        "  \\begin{bmatrix}\n",
        "\t\t 1 & x_1^i & ... & x_P^i \\\\\n",
        "\t\\end{bmatrix}\n",
        "\t.\n",
        "\t\\begin{bmatrix}\n",
        "\t\t\\beta_0 \\\\\n",
        "    \\beta_{11}\\\\\n",
        "    … \\\\\n",
        "\t\t\\beta_{1P} \\\\\n",
        "\t\\end{bmatrix}\n",
        "  = X^i . β\n",
        "  \\\\\n",
        "  RSS= \\sum_i (y_i -f(x_i))^2 =\n",
        "\t\\begin{bmatrix}\n",
        "\t\t y^1 -f(x^1) & ... & y^n -f(x^n) \\\\\n",
        "\t\\end{bmatrix}\n",
        "\t.\n",
        "\t\\begin{bmatrix}\n",
        "\t\ty^n -f(x^n) \\\\\n",
        "    … \\\\\n",
        "\t\ty^n -f(x^n) \\\\\n",
        "\t\\end{bmatrix}\n",
        "\t=\n",
        "\t(y - X. β)^T . (y - X. β)\n",
        "\\end{equation*}"
      ],
      "metadata": {
        "id": "g3-yA9jCeMyj"
      }
    },
    {
      "cell_type": "code",
      "source": [
        "from google.colab import drive\n",
        "drive.mount('/content/drive')"
      ],
      "metadata": {
        "colab": {
          "base_uri": "https://localhost:8080/"
        },
        "id": "lBN3-Fnhf364",
        "outputId": "95a33c60-1e1d-4f44-c5dc-3de12a72b0f7"
      },
      "execution_count": 5,
      "outputs": [
        {
          "output_type": "stream",
          "name": "stdout",
          "text": [
            "Drive already mounted at /content/drive; to attempt to forcibly remount, call drive.mount(\"/content/drive\", force_remount=True).\n"
          ]
        }
      ]
    },
    {
      "cell_type": "code",
      "source": [
        "%matplotlib inline\n",
        " \n",
        "import matplotlib.pyplot as plt\n",
        "import numpy as np\n",
        "import os\n",
        "from os import listdir\n",
        "from os.path import isfile, join\n",
        "from functools import reduce\n",
        "import skimage\n",
        "from sklearn.model_selection import train_test_split\n",
        "from sklearn.metrics import mean_squared_error\n",
        "from sklearn import linear_model, metrics\n",
        "from skimage.io import imread\n",
        "from skimage.io import imshow\n",
        "from skimage.color import rgb2gray\n",
        "from skimage.transform import resize\n",
        "from sklearn.decomposition import PCA\n",
        "import pprint\n",
        "import pandas as pd\n",
        "pp = pprint.PrettyPrinter(indent=4)"
      ],
      "metadata": {
        "id": "0Er87cdff7Ze"
      },
      "execution_count": 6,
      "outputs": []
    },
    {
      "cell_type": "markdown",
      "source": [
        "# Section 1"
      ],
      "metadata": {
        "id": "k9sHqn_Oepy1"
      }
    },
    {
      "cell_type": "code",
      "source": [
        "data=pd.read_csv('drive/MyDrive/ml/ozon.csv')\n",
        "#data=pd.read_csv('drive/MyDrive/CVLab/LAB2/ozon.csv')\n",
        "data=data.to_numpy()"
      ],
      "metadata": {
        "id": "4PeXzsrzS1fB"
      },
      "execution_count": 15,
      "outputs": []
    },
    {
      "cell_type": "markdown",
      "source": [
        "## Part 1"
      ],
      "metadata": {
        "id": "1mGECzFwe1A0"
      }
    },
    {
      "cell_type": "markdown",
      "source": [
        "در این قسمت داده هارا از فایل می خوانیم و به صورت رندوم 80 درصد را به عنوان داده ترین و باقی را به عنوان داده تست جداسازی می کنیم"
      ],
      "metadata": {
        "id": "poRBdZHXsZ6j"
      }
    },
    {
      "cell_type": "code",
      "source": [
        "#implementing regression \n",
        "Y=data[:,3:4]\n",
        "X=data[:,0:3]\n",
        "X1=np.concatenate((np.ones((X.shape[0],1)),X),axis=1)\n",
        "#print(X)\n",
        "\n",
        "X_train1, X_test1, y_train1, y_test1 = train_test_split(X1,Y ,test_size=0.2,random_state=42)"
      ],
      "metadata": {
        "id": "FECcYy4Q7Smh"
      },
      "execution_count": 41,
      "outputs": []
    },
    {
      "cell_type": "markdown",
      "source": [
        "در ادامه تابع رگرسیون را به صورت دستی محاسبه می کنیم. تابع خطی بدست آمده به صورت زیر خواهد بود:\n",
        "$$ f(x) = -60.99 + 0.06 x_1 + 1.62 x_2 -3.45 x_3$$\n",
        " به این ترتیب خطای داده ترین 481 و خطای داده تست 245 خواهد شد."
      ],
      "metadata": {
        "id": "zu-jOkjks0Oo"
      }
    },
    {
      "cell_type": "code",
      "source": [
        "A= np.transpose(X_train1) @ X_train1\n",
        "B= np.transpose(X_train1) @ y_train1\n",
        "beta = np.linalg.inv(A) @ B\n",
        "print(beta)\n",
        "\n",
        "#emperical risk and true risk\n",
        "emperical_risk = np.sum((X_train1 @ beta - y_train1)**2)/np.shape(X_train1)[0]\n",
        "print('train error = {}'.format(emperical_risk))\n",
        "\n",
        "true_risk = np.sum((X_test1 @ beta - y_test1)**2)/np.shape(X_test1)[0]\n",
        "print('test error = {}'.format(true_risk))"
      ],
      "metadata": {
        "colab": {
          "base_uri": "https://localhost:8080/"
        },
        "id": "EY-IgMzM-v5t",
        "outputId": "9125c531-1ed4-4f0f-e1a8-d7d4e1fa1fd0"
      },
      "execution_count": 42,
      "outputs": [
        {
          "output_type": "stream",
          "name": "stdout",
          "text": [
            "[[-60.99239109]\n",
            " [  0.06339674]\n",
            " [  1.6229136 ]\n",
            " [ -3.45349018]]\n",
            "train error = 481.6297884493443\n",
            "test error = 245.17289877643736\n"
          ]
        }
      ]
    },
    {
      "cell_type": "markdown",
      "source": [
        "در ادامه از تابع رگرسیون آماده استفاده می کنیم. ضرایب تابع نهایی و خطاهای داده تست و ترین یکسان خواهند بود."
      ],
      "metadata": {
        "id": "-VBZ0YFHE6dF"
      }
    },
    {
      "cell_type": "code",
      "source": [
        "#using sklearn regression \n",
        "from sklearn.linear_model import LinearRegression\n",
        "from sklearn.metrics import mean_squared_error\n",
        "X_train, X_test, y_train, y_test = train_test_split(X, Y ,test_size=0.2,random_state=42)\n",
        "model = LinearRegression(normalize=True)\n",
        "model.fit(X_train,y_train)\n",
        "print(model.coef_)\n",
        "print(model.intercept_)\n",
        "print('train error = {}'.format(mean_squared_error(model.predict(X_train),y_train)))\n",
        "print('test error = {}'.format(mean_squared_error(model.predict(X_test),y_test)))"
      ],
      "metadata": {
        "colab": {
          "base_uri": "https://localhost:8080/"
        },
        "id": "kOMK_o6A_eEd",
        "outputId": "4d6342f0-08cf-461d-fe8c-564edd21e664"
      },
      "execution_count": 43,
      "outputs": [
        {
          "output_type": "stream",
          "name": "stdout",
          "text": [
            "[[ 0.06339674  1.6229136  -3.45349018]]\n",
            "[-60.99239109]\n",
            "train error = 481.62978844934446\n",
            "test error = 245.17289877643464\n"
          ]
        },
        {
          "output_type": "stream",
          "name": "stderr",
          "text": [
            "/usr/local/lib/python3.7/dist-packages/sklearn/linear_model/_base.py:145: FutureWarning: 'normalize' was deprecated in version 1.0 and will be removed in 1.2.\n",
            "If you wish to scale the data, use Pipeline with a StandardScaler in a preprocessing stage. To reproduce the previous behavior:\n",
            "\n",
            "from sklearn.pipeline import make_pipeline\n",
            "\n",
            "model = make_pipeline(StandardScaler(with_mean=False), LinearRegression())\n",
            "\n",
            "If you wish to pass a sample_weight parameter, you need to pass it as a fit parameter to each step of the pipeline as follows:\n",
            "\n",
            "kwargs = {s[0] + '__sample_weight': sample_weight for s in model.steps}\n",
            "model.fit(X, y, **kwargs)\n",
            "\n",
            "\n",
            "  FutureWarning,\n"
          ]
        }
      ]
    },
    {
      "cell_type": "markdown",
      "source": [
        "## Part 2"
      ],
      "metadata": {
        "id": "kCbtEJF-kqPC"
      }
    },
    {
      "cell_type": "markdown",
      "source": [
        "در این قسمت به لیبل ها که میزان ازن هوا می باشند، نویز با واریانس های مختلف اضافه کرده و رقتار تابع حاصل را مقایسه می کنیم.\n",
        "\n",
        "مطابق نمودار خطا بر حسب واریانس نویز، با افزایش نویز به طور کلی خطای ترین و تست هر دو افزایش می یابد و این دو خطا به یکدیگر نزدیکتر خواهند شد.\n",
        "\n",
        "البته این افزایش به دلیل متغیر بودن رفتار نویز همواره رخ نمی دهد و در مواردی خطا را کاهش می دهد اما به طور کلی خطا ها در حال افزایش می باشد."
      ],
      "metadata": {
        "id": "LOC77E-bunPZ"
      }
    },
    {
      "cell_type": "code",
      "source": [
        "# adding noise to ozon\n",
        "emp=[]\n",
        "tru=[]\n",
        "tru2=[]\n",
        "v=np.linspace(0,50,201)\n",
        "\n",
        "for i in v:\n",
        "  ynoisy=y_train\n",
        "  ynoisy=ynoisy+np.random.normal(size=(np.shape(ynoisy)))*np.sqrt(i)\n",
        "  ytest=y_test\n",
        "  ytest=ytest+np.random.normal(size=(np.shape(ytest)))*np.sqrt(i)\n",
        "  model.fit(X_train,ynoisy)\n",
        "  tru.append(mean_squared_error(model.predict(X_test),ytest))\n",
        "  tru2.append(mean_squared_error(model.predict(X_test),y_test))\n",
        "  emp.append(mean_squared_error(model.predict(X_train),ynoisy))"
      ],
      "metadata": {
        "id": "sfBJ1AYrC5kg"
      },
      "execution_count": null,
      "outputs": []
    },
    {
      "cell_type": "code",
      "source": [
        "plt.plot(v,emp,label=\"train error\")\n",
        "plt.plot(v,tru,label=\"test error\")\n",
        "plt.ylabel('error')\n",
        "plt.xlabel('noise variance')\n",
        "plt.legend()\n",
        "plt.show()\n"
      ],
      "metadata": {
        "colab": {
          "base_uri": "https://localhost:8080/",
          "height": 279
        },
        "id": "S7h16-ncGNxG",
        "outputId": "eb24c9e6-1f1d-49e9-8a06-3c9ff9f8a7c3"
      },
      "execution_count": 46,
      "outputs": [
        {
          "output_type": "display_data",
          "data": {
            "text/plain": [
              "<Figure size 432x288 with 1 Axes>"
            ],
            "image/png": "[encoded data removed]"
          },
          "metadata": {
            "needs_background": "light"
          }
        }
      ]
    },
    {
      "cell_type": "markdown",
      "source": [
        "## Part 3"
      ],
      "metadata": {
        "id": "XQmJ4r9xlkTU"
      }
    },
    {
      "cell_type": "markdown",
      "source": [
        "در این قسمت علاوه بر توابع خطی از 3 پارامتر توان های دوم آن هارا نیز اضافه می کنیم.\n",
        "\n",
        "مطابق نتیجه خطای ترین (301) کاهش یافته و خطای تست (479) افزایش می یابد . به عبارتی مدل ما به سمت اورفیت شدن می رود. یعنی به داده ترین بسیار فیت شده اما این فیت شدن مدل را از حالت کلی و مدل واقعی دورتر می کند و در نتیجه خطای داده تست افزایش می یابد."
      ],
      "metadata": {
        "id": "c20QVdnfxMvu"
      }
    },
    {
      "cell_type": "code",
      "source": [
        "#adding power of 2 to features\n",
        "from sklearn.preprocessing import PolynomialFeatures\n",
        "\n",
        "#poly=PolynomialFeatures(degree=2,include_bias=True)\n",
        "#X_train_trans=poly.fit_transform(X_train)\n",
        "#X_test_trans=poly.fit_transform(X_test)\n",
        "\n",
        "X_train_trans2=np.concatenate((X_train,X_train**2),axis=1)\n",
        "X_test_trans2=np.concatenate((X_test,X_test**2),axis=1)\n",
        "\n",
        "model = LinearRegression(normalize=True)\n",
        "model.fit(X_train_trans2,y_train)\n",
        "print(model.coef_)\n",
        "print(model.intercept_)\n",
        "print('train error = {}'.format(mean_squared_error(model.predict(X_train_trans2),y_train)))\n",
        "print('test error = {}'.format(mean_squared_error(model.predict(X_test_trans2),y_test)))"
      ],
      "metadata": {
        "colab": {
          "base_uri": "https://localhost:8080/"
        },
        "id": "NtGmuYh6JQ2d",
        "outputId": "6bf5d5e8-7969-4d48-dbd9-fa844ae8b688"
      },
      "execution_count": 48,
      "outputs": [
        {
          "output_type": "stream",
          "name": "stdout",
          "text": [
            "[[ 1.49401472e-01 -8.51130784e+00 -1.72817607e+01 -2.51375082e-04\n",
            "   6.54632484e-02  6.16689081e-01]]\n",
            "[390.06376166]\n",
            "train error = 301.0731846497046\n",
            "test error = 479.98385823501246\n"
          ]
        },
        {
          "output_type": "stream",
          "name": "stderr",
          "text": [
            "/usr/local/lib/python3.7/dist-packages/sklearn/linear_model/_base.py:145: FutureWarning: 'normalize' was deprecated in version 1.0 and will be removed in 1.2.\n",
            "If you wish to scale the data, use Pipeline with a StandardScaler in a preprocessing stage. To reproduce the previous behavior:\n",
            "\n",
            "from sklearn.pipeline import make_pipeline\n",
            "\n",
            "model = make_pipeline(StandardScaler(with_mean=False), LinearRegression())\n",
            "\n",
            "If you wish to pass a sample_weight parameter, you need to pass it as a fit parameter to each step of the pipeline as follows:\n",
            "\n",
            "kwargs = {s[0] + '__sample_weight': sample_weight for s in model.steps}\n",
            "model.fit(X, y, **kwargs)\n",
            "\n",
            "\n",
            "  FutureWarning,\n"
          ]
        }
      ]
    },
    {
      "cell_type": "markdown",
      "source": [
        "# Section 2"
      ],
      "metadata": {
        "id": "VpLl1Vlme7yS"
      }
    },
    {
      "cell_type": "code",
      "source": [
        "dataPath = 'drive/MyDrive/CVLab/LAB1/Data/Cohn-Kanade/surprise videos'"
      ],
      "metadata": {
        "id": "lfc9_47ofLhf"
      },
      "execution_count": 4,
      "outputs": []
    },
    {
      "cell_type": "markdown",
      "source": [
        "## Part 1"
      ],
      "metadata": {
        "id": "5I8SZTY_SRR3"
      }
    },
    {
      "cell_type": "markdown",
      "source": [
        "در این بخش با استفاده از یک حلقه روی همه فایل های دایرکتوری های فریم های ویدیوهای سورپرایز، تک تک فریم ها را پس از تبدیل آن ها به تصاویر دو کاناله و برداری کردن آن ها ذخیره می کنیم. همچنین لازم است به هر فریم برچسبی را که نشان دهنده شدت تعجب است نسبت دهیم. در نتیجه با اسکیل کردن تعداد فریم های هر ویدیو به بازه ۰ تا ۱، به هر فریم برچسب متناطر با آن را می دهیم. بدین صورت که فریم با کمترین میزان تعجب برچسب ۰ می خورد و فریم با بیشترین میزان تعجب برچسب ۱ خواهد داشت. در نهایت پس از ذخیره سازی همه فریم ها و لیبل های آن ها، به صورت رندم ۶۰ درصد داده ها را به عنوان داده آموزش و ۴۰ درصد آن ها را به عنوان داده تست در نظر می گیریم."
      ],
      "metadata": {
        "id": "UE3FFwQZtA9x"
      }
    },
    {
      "cell_type": "markdown",
      "source": [
        "در بخش اول از آنجا که از همه تصاویر با ابعاد اصلی آن استفاده می شود، به دلیل \n",
        "حجم خیلی زیاد دیتا، رم کرش می کند و نمی توان رگرسور را با این حجم دیتا آموزش داد. (در نتیجه پارت ۱ را ران نکنید!)"
      ],
      "metadata": {
        "id": "TYk3BORismsM"
      }
    },
    {
      "cell_type": "markdown",
      "source": [
        "### Part 1 code (you will probably face RAM crash by running this part!)"
      ],
      "metadata": {
        "id": "WLfZK4uAvIa1"
      }
    },
    {
      "cell_type": "code",
      "source": [
        "frames = []\n",
        "labels = []\n",
        "for file in os.listdir(dataPath):\n",
        "  current_frames = []\n",
        "  current_labels = []\n",
        "  # number of total frames in a directory\n",
        "  N = len(listdir(join(dataPath , file)))\n",
        "  # setting counter to zero\n",
        "  c = 0\n",
        "  for frame in os.listdir(join(dataPath , file)):\n",
        "    c = c+1\n",
        "    frame_img = imread(join(dataPath , file, frame))\n",
        "    # converting the frame image to grayscale\n",
        "    frame_img = rgb2gray(frame_img)\n",
        "    # vectorizing the frame\n",
        "    frame_img = frame_img.reshape(frame_img.shape[0] * frame_img.shape[1], 1)\n",
        "    # converting the frame number to 0-1 range to obtain its label\n",
        "    label = (c-1)/(N-1)\n",
        "    # saving frame image and its corresponding label\n",
        "    current_frames.append(frame_img)\n",
        "    current_labels.append(label)\n",
        "  frames.append(current_frames)\n",
        "  labels.append(current_labels)\n"
      ],
      "metadata": {
        "id": "imFu8ld89fLF"
      },
      "execution_count": null,
      "outputs": []
    },
    {
      "cell_type": "code",
      "source": [
        "# splitting data to train and test\n",
        "X_train, X_test, y_train, y_test = train_test_split(frames, labels, test_size=0.4, random_state=42)"
      ],
      "metadata": {
        "id": "0kImc7_qEdS0"
      },
      "execution_count": null,
      "outputs": []
    },
    {
      "cell_type": "code",
      "source": [
        "# converting the nested lists into a single list\n",
        "X_train = reduce(lambda x,y: x+y, X_train)\n",
        "X_test = reduce(lambda x,y: x+y, X_test)\n",
        "y_train = reduce(lambda x,y: x+y, y_train)\n",
        "y_test = reduce(lambda x,y: x+y, y_test)"
      ],
      "metadata": {
        "id": "N209xOkvHrhP"
      },
      "execution_count": null,
      "outputs": []
    },
    {
      "cell_type": "markdown",
      "source": [
        "## Part 2"
      ],
      "metadata": {
        "id": "wAJQbLjOSXjL"
      }
    },
    {
      "cell_type": "markdown",
      "source": [
        "در این بخش برای خواندن و ذخیره سازی فریم ها مانند بخش قبل عمل می کنیم با این تفاوت که با تعریف کردن یک ماسک و اعمال آن روی هر فریم، از هر فریم فقط بخش صورت آن گرفته می شود. همچنین پس از اعمال ماسک، ابعاد تصویر به یک چهارم ابعاد اولیه آن کاهش می یابد و بعد از برداری شدن ذخیره می شود. همچنین مشابه قسمت قبل پس از ذخیره همه فریم ها و برچسب های متناظر با آن ها، ۶۰ درصد داده ها به صورت رندم به عنوان داده آموزش و ۴۰ درصد آن ها به عنوان داده تست ذخیره می شود."
      ],
      "metadata": {
        "id": "O3RE66NGvUNr"
      }
    },
    {
      "cell_type": "code",
      "source": [
        "frames = []\n",
        "labels = []\n",
        "for file in os.listdir(dataPath):\n",
        "  current_frames = []\n",
        "  current_labels = []\n",
        "  # number of total frames in a directory\n",
        "  N = len(listdir(join(dataPath , file)))\n",
        "  # setting counter to zero\n",
        "  c = 0\n",
        "  for frame in os.listdir(join(dataPath , file)):\n",
        "    c = c+1\n",
        "    # reading the frame\n",
        "    frame_img = imread(join(dataPath , file, frame))\n",
        "    # converting the frame image to grayscale\n",
        "    frame_img = rgb2gray(frame_img)\n",
        "    # masking the image\n",
        "    frame_img = frame_img[100:700, 400:800]\n",
        "    # resizing the image\n",
        "    frame_img = resize(frame_img, (0.25*frame_img.shape[0], 0.25*frame_img.shape[1]))\n",
        "    # vectorizing the frame\n",
        "    frame_img = frame_img.reshape(frame_img.shape[0] * frame_img.shape[1])\n",
        "    # converting the frame number to 0-1 range to obtain its label\n",
        "    label = (c-1)/(N-1)\n",
        "    # saving frame image and its corresponding label\n",
        "    current_frames.append(frame_img)\n",
        "    current_labels.append(label)\n",
        "  frames.append(current_frames)\n",
        "  labels.append(current_labels)"
      ],
      "metadata": {
        "id": "nwE8BUsCNlGN"
      },
      "execution_count": 49,
      "outputs": []
    },
    {
      "cell_type": "code",
      "source": [
        "# splitting data to train and test\n",
        "X_train, X_test, y_train, y_test = train_test_split(frames, labels, test_size=0.4, random_state=42)"
      ],
      "metadata": {
        "id": "FgqViALrSLDH"
      },
      "execution_count": 50,
      "outputs": []
    },
    {
      "cell_type": "code",
      "source": [
        "# converting the nested lists into a single list\n",
        "X_train = reduce(lambda x,y: x+y, X_train)\n",
        "X_test = reduce(lambda x,y: x+y, X_test)\n",
        "y_train = reduce(lambda x,y: x+y, y_train)\n",
        "y_test = reduce(lambda x,y: x+y, y_test)"
      ],
      "metadata": {
        "id": "VxNancfySbOT"
      },
      "execution_count": 51,
      "outputs": []
    },
    {
      "cell_type": "markdown",
      "source": [
        "در این قسمت، یک رگرسور خطی روی داده های آموزش ترین می شود و سپس خطای ترین و تست آن محاسبه می گردند."
      ],
      "metadata": {
        "id": "tjIfTtDUxFAa"
      }
    },
    {
      "cell_type": "code",
      "source": [
        "# defining the linear model\n",
        "reg = linear_model.LinearRegression()"
      ],
      "metadata": {
        "id": "LtHPoybVSoeL"
      },
      "execution_count": 52,
      "outputs": []
    },
    {
      "cell_type": "code",
      "source": [
        "# training the linear regression\n",
        "reg.fit(X_train, y_train)"
      ],
      "metadata": {
        "colab": {
          "base_uri": "https://localhost:8080/"
        },
        "id": "CTet2vwoTCyh",
        "outputId": "529a7f16-1b5f-4623-f1c9-d6020f3836f2"
      },
      "execution_count": 53,
      "outputs": [
        {
          "output_type": "execute_result",
          "data": {
            "text/plain": [
              "LinearRegression()"
            ]
          },
          "metadata": {},
          "execution_count": 53
        }
      ]
    },
    {
      "cell_type": "code",
      "source": [
        "predicted_train_labels = reg.predict(X_train)\n",
        "predicted_test_labels = reg.predict(X_test)"
      ],
      "metadata": {
        "id": "DJZVkxHzTwQY"
      },
      "execution_count": 54,
      "outputs": []
    },
    {
      "cell_type": "code",
      "source": [
        "print(\"Train error: \", mean_squared_error(predicted_train_labels, y_train))\n",
        "print(\"Test error: \", mean_squared_error(predicted_test_labels, y_test))"
      ],
      "metadata": {
        "colab": {
          "base_uri": "https://localhost:8080/"
        },
        "id": "FWuGxLMLZkkE",
        "outputId": "2953b97e-23d4-4d99-be16-b60deb3410f8"
      },
      "execution_count": 55,
      "outputs": [
        {
          "output_type": "stream",
          "name": "stdout",
          "text": [
            "Train error:  1.5389037034419282e-29\n",
            "Test error:  0.2886084547032918\n"
          ]
        }
      ]
    },
    {
      "cell_type": "markdown",
      "source": [
        "همان طور که دیده می شود خطای آموزش تقریبا صفر است."
      ],
      "metadata": {
        "id": "DRzCSXsUxSJH"
      }
    },
    {
      "cell_type": "markdown",
      "source": [
        "## Part 3"
      ],
      "metadata": {
        "id": "POlSjvWoxYJe"
      }
    },
    {
      "cell_type": "markdown",
      "source": [
        "در این قسمت الگوریتم پی سی ای را روی داده های آموزش ترین می کنیم\n",
        "و با تصویر کردن هر کدام از فریم ها روی بردار ویژه های برتر به دست آمده، تصاویر را کاهش بعد میدهیم."
      ],
      "metadata": {
        "id": "LlIb06qX3VTu"
      }
    },
    {
      "cell_type": "markdown",
      "source": [
        "تعداد 100 ویژگی اصلی را برای آموزش رگرسیون در نظر می گیریم. به این ترتیب خطا ترین (0.01) افزایش و خطای تست (0.07) دو کاهش می یابد.\n",
        "\n",
        " علت  این امر این است که در قسمت قبل بخشی از پیکسل هایی که حاوی اطلاعاتی می باشند را دور می ریزیم. اما در اینجا به جای اینکار ویژگی های مهم کل تصویر را جدا می کنیم و بر اساس آن ها رگرسیون را بدست می آوریم."
      ],
      "metadata": {
        "id": "22qV_ELv34bK"
      }
    },
    {
      "cell_type": "code",
      "source": [
        "Ncom=100\n",
        "pca1 = PCA(n_components=Ncom)\n",
        "pca1.fit(X_train)\n",
        "Xx_train=pca1.transform(X_train)\n",
        "Xx_test=pca1.transform(X_test)"
      ],
      "metadata": {
        "id": "dRiK8zpJYyFg"
      },
      "execution_count": 56,
      "outputs": []
    },
    {
      "cell_type": "code",
      "source": [
        "model = LinearRegression(normalize=True)\n",
        "model.fit(Xx_train,y_train)\n",
        "#print(model.coef_)\n",
        "#print(model.intercept_)\n",
        "print('train error = {}'.format(mean_squared_error(model.predict(Xx_train),y_train)))\n",
        "print('test error = {}'.format(mean_squared_error(model.predict(Xx_test),y_test)))"
      ],
      "metadata": {
        "colab": {
          "base_uri": "https://localhost:8080/"
        },
        "id": "eMa3WPKOZJ8E",
        "outputId": "d3457e27-8fc7-429b-e58b-9fe59a684a5a"
      },
      "execution_count": 57,
      "outputs": [
        {
          "output_type": "stream",
          "name": "stdout",
          "text": [
            "train error = 0.010207828961563581\n",
            "test error = 0.07694675001090533\n"
          ]
        },
        {
          "output_type": "stream",
          "name": "stderr",
          "text": [
            "/usr/local/lib/python3.7/dist-packages/sklearn/linear_model/_base.py:145: FutureWarning: 'normalize' was deprecated in version 1.0 and will be removed in 1.2.\n",
            "If you wish to scale the data, use Pipeline with a StandardScaler in a preprocessing stage. To reproduce the previous behavior:\n",
            "\n",
            "from sklearn.pipeline import make_pipeline\n",
            "\n",
            "model = make_pipeline(StandardScaler(with_mean=False), LinearRegression())\n",
            "\n",
            "If you wish to pass a sample_weight parameter, you need to pass it as a fit parameter to each step of the pipeline as follows:\n",
            "\n",
            "kwargs = {s[0] + '__sample_weight': sample_weight for s in model.steps}\n",
            "model.fit(X, y, **kwargs)\n",
            "\n",
            "\n",
            "  FutureWarning,\n"
          ]
        }
      ]
    }
  ]
}