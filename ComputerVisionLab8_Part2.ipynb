{
  "nbformat": 4,
  "nbformat_minor": 0,
  "metadata": {
    "colab": {
      "provenance": []
    },
    "kernelspec": {
      "name": "python3",
      "display_name": "Python 3"
    },
    "language_info": {
      "name": "python"
    }
  },
  "cells": [
    {
      "cell_type": "code",
      "source": [
        "from google.colab import drive\n",
        "drive.mount('/content/drive')"
      ],
      "metadata": {
        "colab": {
          "base_uri": "https://localhost:8080/"
        },
        "id": "jGn4asZNWs64",
        "outputId": "345bea58-320a-4ebd-af42-60934c48c066"
      },
      "execution_count": null,
      "outputs": [
        {
          "output_type": "stream",
          "name": "stdout",
          "text": [
            "Mounted at /content/drive\n"
          ]
        }
      ]
    },
    {
      "cell_type": "code",
      "source": [
        "import cv2 as cv\n",
        "import os\n",
        "from os import listdir\n",
        "from os.path import isfile, join\n",
        "from skimage.io import imread\n",
        "from skimage.io import imshow\n",
        "from skimage.color import rgb2gray\n",
        "from skimage.transform import resize\n",
        "from sklearn.model_selection import train_test_split\n",
        "from sklearn.metrics import accuracy_score\n",
        "from sklearn.linear_model import LogisticRegression\n",
        "from sklearn import svm\n",
        "import matplotlib.pyplot as plt\n",
        "import numba as nb\n",
        "import numpy as np"
      ],
      "metadata": {
        "id": "rau5nfA2Zqm4"
      },
      "execution_count": 44,
      "outputs": []
    },
    {
      "cell_type": "markdown",
      "source": [
        "در قسمت زیر، مسیر ویدیوهای خوشحال و متعجب تعریف می شوند."
      ],
      "metadata": {
        "id": "yyuD_D7XmCVW"
      }
    },
    {
      "cell_type": "code",
      "execution_count": null,
      "metadata": {
        "id": "VPVg_uoyS9ih"
      },
      "outputs": [],
      "source": [
        "dataPath1 = 'drive/MyDrive/CVLab/LAB1/Data/Cohn-Kanade/surprise videos'\n",
        "dataPath2 = 'drive/MyDrive/CVLab/LAB1/Data/Cohn-Kanade/happy videos'"
      ]
    },
    {
      "cell_type": "code",
      "source": [
        "# parameters for lucas kanade optical flow\n",
        "lk_params = dict( winSize  = (15, 15),\n",
        "                  maxLevel = 5,\n",
        "                  criteria = (cv.TERM_CRITERIA_EPS | cv.TERM_CRITERIA_COUNT, 10, 0.03))"
      ],
      "metadata": {
        "id": "lwbJAtcuZpAA"
      },
      "execution_count": null,
      "outputs": []
    },
    {
      "cell_type": "markdown",
      "source": [
        "تابع زیر به ازای بردار اندازه و زاویه ورودی، هیستوگرام زوایا را حساب می کند."
      ],
      "metadata": {
        "id": "wXDwkrrGmMkB"
      }
    },
    {
      "cell_type": "code",
      "source": [
        "@nb.jit\n",
        "def hist_calculation(magnitude, angle):\n",
        "  h = np.zeros(8)\n",
        "  for mag, ang in zip(magnitude.reshape(-1), angle.reshape(-1)):\n",
        "    if ang == 0:\n",
        "      h[0] += mag\n",
        "    elif ang > 0 and ang <= 360:\n",
        "      h[int( (ang-1)//30) ] += mag\n",
        "  return h"
      ],
      "metadata": {
        "id": "LtHiKy86vDcD"
      },
      "execution_count": null,
      "outputs": []
    },
    {
      "cell_type": "markdown",
      "source": [
        "درقسمت زیر، ابتدا تصاویر مربوط به ویدیوهای متعحب و سپس تصاویر مربوط به ویدیوهای خوشحال خوانده می شوند. کامنت های گذاشته شده، عملکرد هر خط از کد را توضیح میدهند. تصویر هر فریم پس از خوانده شدن، به تصویر دوکاناله تبدیل می شود و روی آن ماسک (برای جدا کردن صورت شخص) اعمال می شود و ابعاد تصویر نهایی به دست آمده نصف می شود. سپس یک حلقه می زنیم که در آن شار نوری بین هر فریم جدیدی که خوانده می شود و فریم خوانده شده قبلی محاسبه می شود. اندازه و زوایای مربوط به فلو محاسبه شده و زاویه فلو به درجه تبدیل می شود. سپس با استفاده از تابع تعریف شده، هیستوگرام زوایای مربوط به فلو هر فریم محاسبه و ذخیره می شود. در انتهای لوپ، فریم قبلی با فریم فعلی جایگزین می شود. برای هر ویدیو، یکبار میانگین هیستوگرام زوایا محاسبه می شود و یکبار هم ماکسیمم آن ها."
      ],
      "metadata": {
        "id": "rgunRIsdmUiW"
      }
    },
    {
      "cell_type": "code",
      "source": [
        "surprise_hists = []\n",
        "\n",
        "for video in os.listdir(dataPath1):\n",
        "\n",
        "  current_vid_hists = []\n",
        "\n",
        "  dirs = os.listdir(join(dataPath1 , video))\n",
        "  # reading the first frame\n",
        "  prev_frame = imread(join(dataPath1 , video, dirs[0]))\n",
        "  # converting the frame image to grayscale\n",
        "  prev_frame_gray = rgb2gray(prev_frame)\n",
        "  # masking\n",
        "  prev_frame_gray = prev_frame_gray[100:700, 400:800]\n",
        "  # resizing \n",
        "  prev_frame_gray = resize(prev_frame_gray, (0.5*prev_frame_gray.shape[0], 0.5*prev_frame_gray.shape[1]))\n",
        "  for i in range(1, len(dirs)):\n",
        "    # reading the frame\n",
        "    current_frame = imread(join(dataPath1 , video, dirs[1]))\n",
        "    # converting the frame image to grayscale\n",
        "    current_frame_gray = rgb2gray(current_frame)\n",
        "    # masking the image\n",
        "    current_frame_gray = current_frame_gray[100:700, 400:800]\n",
        "    # resizing the image\n",
        "    current_frame_gray = resize(current_frame_gray, (0.5*current_frame_gray.shape[0], 0.5*current_frame_gray.shape[1]))\n",
        "    \n",
        "    # calculating optical flow\n",
        "    flow = cv.calcOpticalFlowFarneback(prev_frame_gray, current_frame_gray, None, 0.5, 3, 15, 3, 5, 1.2, 0)\n",
        "\n",
        "    # computes the magnitude and angle of the flow\n",
        "    magnitude, angle = cv.cartToPolar(flow[..., 0], flow[..., 1])\n",
        "    angle = angle * 180 / np.pi / 2\n",
        "\n",
        "    # computing histogram\n",
        "    h = hist_calculation(magnitude, angle)\n",
        "    \n",
        "    current_vid_hists.append(h)\n",
        "\n",
        "    prev_frame_gray = current_frame_gray\n",
        "\n",
        "  current_vid_hists = np.array(current_vid_hists)\n",
        "\n",
        "  max_hist = np.max(current_vid_hists, axis=0)\n",
        "  mean_hist = np.mean(current_vid_hists, axis=0)\n",
        "  hist = list(max_hist) + list(mean_hist)\n",
        "\n",
        "  surprise_hists.append(hist)"
      ],
      "metadata": {
        "id": "HiKyPOC4W2oN"
      },
      "execution_count": null,
      "outputs": []
    },
    {
      "cell_type": "code",
      "source": [
        "happy_hists = []\n",
        "\n",
        "for video in os.listdir(dataPath2):\n",
        "\n",
        "  current_vid_hists = []\n",
        "\n",
        "  dirs = os.listdir(join(dataPath2 , video))\n",
        "  # reading the first frame\n",
        "  prev_frame = imread(join(dataPath2 , video, dirs[0]))\n",
        "  # converting the frame image to grayscale\n",
        "  prev_frame_gray = rgb2gray(prev_frame)\n",
        "  # masking\n",
        "  prev_frame_gray = prev_frame_gray[100:700, 400:800]\n",
        "  # resizing \n",
        "  prev_frame_gray = resize(prev_frame_gray, (0.5*prev_frame_gray.shape[0], 0.5*prev_frame_gray.shape[1]))\n",
        "  for i in range(1, len(dirs)):\n",
        "    # reading the frame\n",
        "    current_frame = imread(join(dataPath2 , video, dirs[1]))\n",
        "    # converting the frame image to grayscale\n",
        "    current_frame_gray = rgb2gray(current_frame)\n",
        "    # masking the image\n",
        "    current_frame_gray = current_frame_gray[100:700, 400:800]\n",
        "    # resizing the image\n",
        "    current_frame_gray = resize(current_frame_gray, (0.5*current_frame_gray.shape[0], 0.5*current_frame_gray.shape[1]))\n",
        "    \n",
        "    # calculating optical flow\n",
        "    flow = cv.calcOpticalFlowFarneback(prev_frame_gray, current_frame_gray, None, 0.5, 3, 15, 3, 5, 1.2, 0)\n",
        "\n",
        "    # computes the magnitude and angle of the flow\n",
        "    magnitude, angle = cv.cartToPolar(flow[..., 0], flow[..., 1])\n",
        "    angle = angle * 180 / np.pi / 2\n",
        "    \n",
        "    # computing histogram\n",
        "    h = hist_calculation(magnitude, angle)\n",
        "    \n",
        "    current_vid_hists.append(h)\n",
        "\n",
        "    prev_frame_gray = current_frame_gray\n",
        "\n",
        "  current_vid_hists = np.array(current_vid_hists)\n",
        "\n",
        "  max_hist = np.max(current_vid_hists, axis=0)\n",
        "  min_hist = np.mean(current_vid_hists, axis=0)\n",
        "  hist = list(max_hist) + list(min_hist)\n",
        "\n",
        "  happy_hists.append(hist)"
      ],
      "metadata": {
        "id": "4GdUqKw1wSXI"
      },
      "execution_count": null,
      "outputs": []
    },
    {
      "cell_type": "code",
      "source": [
        "happy_labels = list( np.zeros(30) )\n",
        "surprise_labels = list ( np.ones(30) )"
      ],
      "metadata": {
        "id": "IeU3ds5Wxbnf"
      },
      "execution_count": null,
      "outputs": []
    },
    {
      "cell_type": "markdown",
      "source": [
        "در قسمت زیر، نمونه های به دست آمده به نمونه های آموزشی و تست تقسیم می شوند."
      ],
      "metadata": {
        "id": "bEuUcJ7EofAA"
      }
    },
    {
      "cell_type": "code",
      "source": [
        "# splitting data to train and test\n",
        "X_train_happy, X_test_happy, y_train_happy, y_test_happy = train_test_split(happy_hists, happy_labels, test_size=0.3, random_state=42)\n",
        "X_train_surprise, X_test_surprise, y_train_surprise, y_test_surprise = train_test_split(surprise_hists, surprise_labels, test_size=0.3, random_state=42)"
      ],
      "metadata": {
        "id": "91HpO0POxIH3"
      },
      "execution_count": 60,
      "outputs": []
    },
    {
      "cell_type": "code",
      "source": [
        "X_train = X_train_happy + X_train_surprise\n",
        "y_train = y_train_happy + y_train_surprise\n",
        "X_test = X_test_happy + X_test_surprise\n",
        "y_test = y_test_happy + y_test_surprise"
      ],
      "metadata": {
        "id": "t0tgpn94x6Xn"
      },
      "execution_count": 61,
      "outputs": []
    },
    {
      "cell_type": "markdown",
      "source": [
        "در قسمت زیر، با استفاده از طبقه بند اس وی ام خطی، نمونه ها طبقه بندی می شوند. با تغییر پارامترها، بهترین مقداری که برای نرخ تست به دست آمد گزارش شده است."
      ],
      "metadata": {
        "id": "IIdzGWTKouOd"
      }
    },
    {
      "cell_type": "code",
      "source": [
        "clf1 = svm.LinearSVC(C=0.01)\n",
        "clf1.fit(X_train, y_train)"
      ],
      "metadata": {
        "id": "-7ORmbRtyVMh",
        "colab": {
          "base_uri": "https://localhost:8080/"
        },
        "outputId": "282d095d-ee65-4a6e-b839-9e5cd1a6f139"
      },
      "execution_count": 83,
      "outputs": [
        {
          "output_type": "execute_result",
          "data": {
            "text/plain": [
              "LinearSVC(C=0.01)"
            ]
          },
          "metadata": {},
          "execution_count": 83
        }
      ]
    },
    {
      "cell_type": "code",
      "source": [
        "y_train_predicted1 = clf1.predict(X_train)"
      ],
      "metadata": {
        "id": "vWnqnyN9vgqV"
      },
      "execution_count": 84,
      "outputs": []
    },
    {
      "cell_type": "code",
      "source": [
        "y_test_predicted1 = clf1.predict(X_test)"
      ],
      "metadata": {
        "id": "g5udQj79zGMM"
      },
      "execution_count": 85,
      "outputs": []
    },
    {
      "cell_type": "code",
      "source": [
        "test_acc1 = accuracy_score(y_test, y_test_predicted1)\n",
        "print('Accuracy on the test data: ', test_acc1)"
      ],
      "metadata": {
        "id": "y8s15tZ-zK8H",
        "colab": {
          "base_uri": "https://localhost:8080/"
        },
        "outputId": "69378d8e-419b-4b4b-b65a-02de5ee6fe0c"
      },
      "execution_count": 87,
      "outputs": [
        {
          "output_type": "stream",
          "name": "stdout",
          "text": [
            "Accuracy on the test data:  0.6666666666666666\n"
          ]
        }
      ]
    }
  ]
}